{
 "cells": [
  {
   "cell_type": "code",
   "execution_count": null,
   "metadata": {},
   "outputs": [],
   "source": [
    "# Importamos pandas para poder leer el csv y poder manejar el dataframe\n",
    "\n",
    "import pandas as pd"
   ]
  },
  {
   "cell_type": "code",
   "execution_count": null,
   "metadata": {},
   "outputs": [],
   "source": [
    "#Cargamos todas las librerías necesarias para web scrapping con Selenium\n",
    "# Importar librerías para tratamiento de datos\n",
    "# -----------------------------------------------------------------------\n",
    "\n",
    "# Importar librerías para web scraping y manipulación de datos\n",
    "# -----------------------------------------------------------------------\n",
    "from bs4 import BeautifulSoup\n",
    "import requests\n",
    "\n",
    "# Importar librerías para automatización de navegadores web con Selenium\n",
    "# -----------------------------------------------------------------------\n",
    "from selenium import webdriver  # Selenium es una herramienta para automatizar la interacción con navegadores web.\n",
    "from webdriver_manager.chrome import ChromeDriverManager  # ChromeDriverManager gestiona la instalación del controlador de Chrome.\n",
    "from selenium.webdriver.common.keys import Keys  # Keys es útil para simular eventos de teclado en Selenium.\n",
    "from selenium.webdriver.support.ui import Select  # Select se utiliza para interactuar con elementos <select> en páginas web.\n",
    "\n",
    "# Importar librerías para pausar la ejecución\n",
    "# -----------------------------------------------------------------------\n",
    "from time import sleep  # Sleep se utiliza para pausar la ejecución del programa por un número de segundos.\n",
    "\n",
    "# Configuraciones\n",
    "# -----------------------------------------------------------------------\n",
    "pd.set_option('display.max_columns', None)  # Establece una opción de Pandas para mostrar todas las columnas de un DataFrame."
   ]
  },
  {
   "cell_type": "code",
   "execution_count": null,
   "metadata": {},
   "outputs": [],
   "source": [
    "df_actores = pd.read_csv('actores.csv')\n",
    "\n",
    "df_actores"
   ]
  },
  {
   "cell_type": "code",
   "execution_count": null,
   "metadata": {},
   "outputs": [],
   "source": [
    "actors_list = df_actores['nombre actor'].tolist()\n",
    "\n",
    "# Mostrar la lista para verificar que se ha creado correctamente\n",
    "print(actors_list)\n",
    "print(len(actors_list))"
   ]
  },
  {
   "cell_type": "code",
   "execution_count": null,
   "metadata": {},
   "outputs": [],
   "source": [
    "#creamos esta lista con solo 2 actores para pruebas\n",
    "\n",
    "nombres_actores_corto = ['Saif Ali Khan', 'Atul Agnihotri']\n",
    "nombres_actores_corto"
   ]
  },
  {
   "cell_type": "code",
   "execution_count": null,
   "metadata": {},
   "outputs": [],
   "source": [
    "#creamos esta lista con cinco actores para pruebas\n",
    "prueba_lista_actores = [\"Saif Ali Khan\", \"Atul Agnihotri\" ,\"Pooja Bhatt\",\"Sheeba Agarwal\",\"Vikas Anand\"]"
   ]
  },
  {
   "cell_type": "code",
   "execution_count": null,
   "metadata": {},
   "outputs": [],
   "source": [
    "#CODIGO PARA OBTENER LA FECHA DE NACIMIENTO NACIMIENTO DE CADA ACTOR\n",
    "#Hay que maximizar la ventana para que se ejecute correctamente y obtenga los datos. Si no, da error.\n",
    "driver = webdriver.Chrome()\n",
    "# Navegamos a la página web \"https://www.imdb.com/title/tt10928904/\"\n",
    "driver.get(\"https://www.imdb.com\")\n",
    "sleep(3)\n",
    "\n",
    "driver.find_element(\"css selector\", '#__next > div > div > div.sc-jrcTuL.bPmWiM > div > button.icb-btn.sc-bcXHqe.sc-dkrFOg.sc-iBYQkv.dcvrLS.ddtuHe.dRCGjd').click()\n",
    "sleep(2)\n",
    "driver.maximize_window()\n",
    "lista_info_actores = []\n",
    "nacimiento = None\n",
    "\n",
    "for actor in actors_list:\n",
    "    driver.find_element(\"css selector\", \"#suggestion-search\").send_keys(actor, Keys.ENTER)\n",
    "\n",
    "    sleep(5)\n",
    "    \n",
    "    driver.find_element('css selector','#__next > main > div.ipc-page-content-container.ipc-page-content-container--full.sc-e51f9d6d-0.Fmvqg > div.ipc-page-content-container.ipc-page-content-container--center > section > div > div.ipc-page-grid__item.ipc-page-grid__item--span-2 > section:nth-child(4) > div.sc-e8e4ce7-2.iXsuvN > ul > li:nth-child(1)').click()\n",
    "\n",
    "    sleep(5)\n",
    "\n",
    "    try:\n",
    "        \n",
    "        nacimiento = driver.find_element(\"css selector\", '#__next > main > div > section.ipc-page-background.ipc-page-background--base.sc-c41b9732-0.NeSef > div > section > div > div.sc-978e9339-1.ihWZgK.ipc-page-grid__item.ipc-page-grid__item--span-2 > section:nth-child(22) > div.sc-f65f65be-0.bBlII > ul > li:nth-child(3) > div > ul > li.ipc-inline-list__item.test-class-react > a').text\n",
    "        lista_info_actores.append({\"nombre actor\":actor, \"fecha\":nacimiento})\n",
    "        print(lista_info_actores)  \n",
    "        sleep(8)\n",
    "\n",
    "    except:\n",
    "        print(\"Fecha de nacimiento no encontrada\")"
   ]
  },
  {
   "cell_type": "code",
   "execution_count": null,
   "metadata": {},
   "outputs": [],
   "source": [
    "#creamos una tabla y lo convertimos a csv\n",
    "df_nacimiento = pd.DataFrame(lista_info_actores)\n",
    "df_nacimiento\n",
    "df_nacimiento.to_csv(\"nacimiento.csv\", index = False)"
   ]
  },
  {
   "cell_type": "code",
   "execution_count": null,
   "metadata": {},
   "outputs": [],
   "source": [
    "#CÓDIGO PARA OBTENER LAS PROFESIONES DE CADA ACTOR\n",
    "driver = webdriver.Chrome()\n",
    "# Navegamos a la página web \"https://www.imdb.com/title/tt10928904/\"\n",
    "driver.get(\"https://www.imdb.com\")\n",
    "sleep(3)\n",
    "\n",
    "driver.find_element(\"css selector\", '#__next > div > div > div.sc-jrcTuL.bPmWiM > div > button.icb-btn.sc-bcXHqe.sc-dkrFOg.sc-iBYQkv.dcvrLS.ddtuHe.dRCGjd').click()\n",
    "sleep(2)\n",
    "driver.maximize_window()\n",
    "lista_info_profesion = []\n",
    "profesion = None\n",
    "\n",
    "for actor in actors_list:\n",
    "    driver.find_element(\"css selector\", \"#suggestion-search\").send_keys(actor, Keys.ENTER)\n",
    "\n",
    "    sleep(5)\n",
    "    \n",
    "    driver.find_element('css selector','#__next > main > div.ipc-page-content-container.ipc-page-content-container--full.sc-e51f9d6d-0.Fmvqg > div.ipc-page-content-container.ipc-page-content-container--center > section > div > div.ipc-page-grid__item.ipc-page-grid__item--span-2 > section:nth-child(4) > div.sc-e8e4ce7-2.iXsuvN > ul > li:nth-child(1)').click()\n",
    "\n",
    "    sleep(5)\n",
    "\n",
    "    for i in range(1,4):\n",
    "        try:\n",
    "            profesion = driver.find_element(\"css selector\", f'#__next > main > div > section.ipc-page-background.ipc-page-background--base.sc-c41b9732-0.NeSef > section > div:nth-child(5) > section > section > div.sc-491663c0-3.bdjVSf > div > ul > li:nth-child({i})').text\n",
    "            lista_info_profesion.append({\"nombre actor\":actor, \"profesion\":profesion})\n",
    "            print(lista_info_profesion)  \n",
    "\n",
    "        except:\n",
    "            print(\"No se ha encontrado la info\")"
   ]
  },
  {
   "cell_type": "code",
   "execution_count": null,
   "metadata": {},
   "outputs": [],
   "source": [
    "#creams tabla y convertimos en fichero csv\n",
    "df_profesion = pd.DataFrame(lista_info_profesion)\n",
    "df_profesion\n",
    "df_profesion.to_csv(\"profesion.csv\", index = False)\n"
   ]
  },
  {
   "cell_type": "code",
   "execution_count": null,
   "metadata": {},
   "outputs": [],
   "source": [
    "#PELICULAS QUE HA REALIZADO CADA ACTOR\n",
    "ddriver = webdriver.Chrome()\n",
    "# Navegamos a la página web \"https://www.imdb.com/title/tt10928904/\"\n",
    "driver.get(\"https://www.imdb.com\")\n",
    "sleep(3)\n",
    "\n",
    "driver.find_element(\"css selector\", '#__next > div > div > div.sc-jrcTuL.bPmWiM > div > button.icb-btn.sc-bcXHqe.sc-dkrFOg.sc-iBYQkv.dcvrLS.ddtuHe.dRCGjd').click()\n",
    "sleep(2)\n",
    "driver.maximize_window()\n",
    "lista_info_donefilms = []\n",
    "donefilms = None\n",
    "\n",
    "for actor in actores_list:\n",
    "    driver.find_element(\"css selector\", \"#suggestion-search\").send_keys(actor, Keys.ENTER)\n",
    "\n",
    "    sleep(5)\n",
    "    \n",
    "    driver.find_element('css selector','#__next > main > div.ipc-page-content-container.ipc-page-content-container--full.sc-e51f9d6d-0.Fmvqg > div.ipc-page-content-container.ipc-page-content-container--center > section > div > div.ipc-page-grid__item.ipc-page-grid__item--span-2 > section:nth-child(4) > div.sc-e8e4ce7-2.iXsuvN > ul > li:nth-child(1)').click()\n",
    "\n",
    "    sleep(5)\n",
    "\n",
    "    for i in range(1,5):\n",
    "        try:\n",
    "            donefilms = driver.find_element(\"css selector\", f'#__next > main > div > section.ipc-page-background.ipc-page-background--base.sc-c41b9732-0.NeSef > div > section > div > div.sc-978e9339-1.ihWZgK.ipc-page-grid__item.ipc-page-grid__item--span-2 > div.celwidget > section:nth-child(1) > div.sc-1c5b3162-0.fFgRFS > div > div.ipc-sub-grid.ipc-sub-grid--page-span-2.ipc-sub-grid--wraps-at-above-l.ipc-shoveler__grid > div:nth-child({i}) > div.ipc-primary-image-list-card__content > div.ipc-primary-image-list-card__content-top > a').text\n",
    "            lista_info_donefilms.append({\"nombre actor\":actor, \"conocido por\":donefilms})\n",
    "            print(lista_info_donefilms)  \n",
    "\n",
    "        except:\n",
    "            print(\"No se ha encontrado la info\")"
   ]
  },
  {
   "cell_type": "code",
   "execution_count": null,
   "metadata": {},
   "outputs": [],
   "source": [
    "#creams tabla y convertimos en fichero csv\n",
    "df_donefilms= pd.DataFrame(lista_info_donefilms)\n",
    "df_donefilms\n",
    "df_donefilms.to_csv(\"donefilms.csv\", index = False)"
   ]
  }
 ],
 "metadata": {
  "language_info": {
   "name": "python"
  }
 },
 "nbformat": 4,
 "nbformat_minor": 2
}
