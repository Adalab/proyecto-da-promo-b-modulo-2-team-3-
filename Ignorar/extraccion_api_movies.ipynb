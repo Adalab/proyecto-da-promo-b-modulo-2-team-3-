{
 "cells": [
  {
   "cell_type": "code",
   "execution_count": 2,
   "metadata": {},
   "outputs": [],
   "source": [
    "import requests"
   ]
  },
  {
   "cell_type": "code",
   "execution_count": 3,
   "metadata": {},
   "outputs": [],
   "source": [
    "import pandas as pd"
   ]
  },
  {
   "cell_type": "code",
   "execution_count": 7,
   "metadata": {},
   "outputs": [],
   "source": [
    "from time import sleep"
   ]
  },
  {
   "cell_type": "code",
   "execution_count": 8,
   "metadata": {},
   "outputs": [
    {
     "name": "stdout",
     "output_type": "stream",
     "text": [
      "Collecting tqdm"
     ]
    },
    {
     "name": "stderr",
     "output_type": "stream",
     "text": [
      "\n",
      "[notice] A new release of pip is available: 24.0 -> 24.1.2\n",
      "[notice] To update, run: python.exe -m pip install --upgrade pip\n"
     ]
    },
    {
     "name": "stdout",
     "output_type": "stream",
     "text": [
      "\n",
      "  Downloading tqdm-4.66.4-py3-none-any.whl.metadata (57 kB)\n",
      "     ---------------------------------------- 0.0/57.6 kB ? eta -:--:--\n",
      "     ----------------------------------- ---- 51.2/57.6 kB 1.3 MB/s eta 0:00:01\n",
      "     -------------------------------------- 57.6/57.6 kB 763.1 kB/s eta 0:00:00\n",
      "Requirement already satisfied: colorama in c:\\users\\alejandra\\appdata\\roaming\\python\\python312\\site-packages (from tqdm) (0.4.6)\n",
      "Downloading tqdm-4.66.4-py3-none-any.whl (78 kB)\n",
      "   ---------------------------------------- 0.0/78.3 kB ? eta -:--:--\n",
      "   ------------------------------------ --- 71.7/78.3 kB 2.0 MB/s eta 0:00:01\n",
      "   ---------------------------------------- 78.3/78.3 kB 1.1 MB/s eta 0:00:00\n",
      "Installing collected packages: tqdm\n",
      "Successfully installed tqdm-4.66.4\n"
     ]
    }
   ],
   "source": [
    "!pip install tqdm"
   ]
  },
  {
   "cell_type": "code",
   "execution_count": 9,
   "metadata": {},
   "outputs": [],
   "source": [
    "from tqdm import tqdm "
   ]
  },
  {
   "cell_type": "code",
   "execution_count": 10,
   "metadata": {},
   "outputs": [],
   "source": [
    "url = \"https://dev.adalab.es/api/cinema/movies?year=2010&genre=Drama\""
   ]
  },
  {
   "cell_type": "code",
   "execution_count": 11,
   "metadata": {},
   "outputs": [],
   "source": [
    "peticion = requests.get(url)"
   ]
  },
  {
   "cell_type": "code",
   "execution_count": 16,
   "metadata": {},
   "outputs": [
    {
     "data": {
      "text/plain": [
       "503"
      ]
     },
     "execution_count": 16,
     "metadata": {},
     "output_type": "execute_result"
    }
   ],
   "source": [
    "peticion.status_code"
   ]
  },
  {
   "cell_type": "code",
   "execution_count": 13,
   "metadata": {},
   "outputs": [
    {
     "ename": "JSONDecodeError",
     "evalue": "Expecting value: line 1 column 1 (char 0)",
     "output_type": "error",
     "traceback": [
      "\u001b[1;31m---------------------------------------------------------------------------\u001b[0m",
      "\u001b[1;31mJSONDecodeError\u001b[0m                           Traceback (most recent call last)",
      "File \u001b[1;32mc:\\Users\\Alejandra\\AppData\\Local\\Programs\\Python\\Python312\\Lib\\site-packages\\requests\\models.py:974\u001b[0m, in \u001b[0;36mResponse.json\u001b[1;34m(self, **kwargs)\u001b[0m\n\u001b[0;32m    973\u001b[0m \u001b[38;5;28;01mtry\u001b[39;00m:\n\u001b[1;32m--> 974\u001b[0m     \u001b[38;5;28;01mreturn\u001b[39;00m \u001b[43mcomplexjson\u001b[49m\u001b[38;5;241;43m.\u001b[39;49m\u001b[43mloads\u001b[49m\u001b[43m(\u001b[49m\u001b[38;5;28;43mself\u001b[39;49m\u001b[38;5;241;43m.\u001b[39;49m\u001b[43mtext\u001b[49m\u001b[43m,\u001b[49m\u001b[43m \u001b[49m\u001b[38;5;241;43m*\u001b[39;49m\u001b[38;5;241;43m*\u001b[39;49m\u001b[43mkwargs\u001b[49m\u001b[43m)\u001b[49m\n\u001b[0;32m    975\u001b[0m \u001b[38;5;28;01mexcept\u001b[39;00m JSONDecodeError \u001b[38;5;28;01mas\u001b[39;00m e:\n\u001b[0;32m    976\u001b[0m     \u001b[38;5;66;03m# Catch JSON-related errors and raise as requests.JSONDecodeError\u001b[39;00m\n\u001b[0;32m    977\u001b[0m     \u001b[38;5;66;03m# This aliases json.JSONDecodeError and simplejson.JSONDecodeError\u001b[39;00m\n",
      "File \u001b[1;32mc:\\Users\\Alejandra\\AppData\\Local\\Programs\\Python\\Python312\\Lib\\json\\__init__.py:346\u001b[0m, in \u001b[0;36mloads\u001b[1;34m(s, cls, object_hook, parse_float, parse_int, parse_constant, object_pairs_hook, **kw)\u001b[0m\n\u001b[0;32m    343\u001b[0m \u001b[38;5;28;01mif\u001b[39;00m (\u001b[38;5;28mcls\u001b[39m \u001b[38;5;129;01mis\u001b[39;00m \u001b[38;5;28;01mNone\u001b[39;00m \u001b[38;5;129;01mand\u001b[39;00m object_hook \u001b[38;5;129;01mis\u001b[39;00m \u001b[38;5;28;01mNone\u001b[39;00m \u001b[38;5;129;01mand\u001b[39;00m\n\u001b[0;32m    344\u001b[0m         parse_int \u001b[38;5;129;01mis\u001b[39;00m \u001b[38;5;28;01mNone\u001b[39;00m \u001b[38;5;129;01mand\u001b[39;00m parse_float \u001b[38;5;129;01mis\u001b[39;00m \u001b[38;5;28;01mNone\u001b[39;00m \u001b[38;5;129;01mand\u001b[39;00m\n\u001b[0;32m    345\u001b[0m         parse_constant \u001b[38;5;129;01mis\u001b[39;00m \u001b[38;5;28;01mNone\u001b[39;00m \u001b[38;5;129;01mand\u001b[39;00m object_pairs_hook \u001b[38;5;129;01mis\u001b[39;00m \u001b[38;5;28;01mNone\u001b[39;00m \u001b[38;5;129;01mand\u001b[39;00m \u001b[38;5;129;01mnot\u001b[39;00m kw):\n\u001b[1;32m--> 346\u001b[0m     \u001b[38;5;28;01mreturn\u001b[39;00m \u001b[43m_default_decoder\u001b[49m\u001b[38;5;241;43m.\u001b[39;49m\u001b[43mdecode\u001b[49m\u001b[43m(\u001b[49m\u001b[43ms\u001b[49m\u001b[43m)\u001b[49m\n\u001b[0;32m    347\u001b[0m \u001b[38;5;28;01mif\u001b[39;00m \u001b[38;5;28mcls\u001b[39m \u001b[38;5;129;01mis\u001b[39;00m \u001b[38;5;28;01mNone\u001b[39;00m:\n",
      "File \u001b[1;32mc:\\Users\\Alejandra\\AppData\\Local\\Programs\\Python\\Python312\\Lib\\json\\decoder.py:337\u001b[0m, in \u001b[0;36mJSONDecoder.decode\u001b[1;34m(self, s, _w)\u001b[0m\n\u001b[0;32m    333\u001b[0m \u001b[38;5;250m\u001b[39m\u001b[38;5;124;03m\"\"\"Return the Python representation of ``s`` (a ``str`` instance\u001b[39;00m\n\u001b[0;32m    334\u001b[0m \u001b[38;5;124;03mcontaining a JSON document).\u001b[39;00m\n\u001b[0;32m    335\u001b[0m \n\u001b[0;32m    336\u001b[0m \u001b[38;5;124;03m\"\"\"\u001b[39;00m\n\u001b[1;32m--> 337\u001b[0m obj, end \u001b[38;5;241m=\u001b[39m \u001b[38;5;28;43mself\u001b[39;49m\u001b[38;5;241;43m.\u001b[39;49m\u001b[43mraw_decode\u001b[49m\u001b[43m(\u001b[49m\u001b[43ms\u001b[49m\u001b[43m,\u001b[49m\u001b[43m \u001b[49m\u001b[43midx\u001b[49m\u001b[38;5;241;43m=\u001b[39;49m\u001b[43m_w\u001b[49m\u001b[43m(\u001b[49m\u001b[43ms\u001b[49m\u001b[43m,\u001b[49m\u001b[43m \u001b[49m\u001b[38;5;241;43m0\u001b[39;49m\u001b[43m)\u001b[49m\u001b[38;5;241;43m.\u001b[39;49m\u001b[43mend\u001b[49m\u001b[43m(\u001b[49m\u001b[43m)\u001b[49m\u001b[43m)\u001b[49m\n\u001b[0;32m    338\u001b[0m end \u001b[38;5;241m=\u001b[39m _w(s, end)\u001b[38;5;241m.\u001b[39mend()\n",
      "File \u001b[1;32mc:\\Users\\Alejandra\\AppData\\Local\\Programs\\Python\\Python312\\Lib\\json\\decoder.py:355\u001b[0m, in \u001b[0;36mJSONDecoder.raw_decode\u001b[1;34m(self, s, idx)\u001b[0m\n\u001b[0;32m    354\u001b[0m \u001b[38;5;28;01mexcept\u001b[39;00m \u001b[38;5;167;01mStopIteration\u001b[39;00m \u001b[38;5;28;01mas\u001b[39;00m err:\n\u001b[1;32m--> 355\u001b[0m     \u001b[38;5;28;01mraise\u001b[39;00m JSONDecodeError(\u001b[38;5;124m\"\u001b[39m\u001b[38;5;124mExpecting value\u001b[39m\u001b[38;5;124m\"\u001b[39m, s, err\u001b[38;5;241m.\u001b[39mvalue) \u001b[38;5;28;01mfrom\u001b[39;00m \u001b[38;5;28;01mNone\u001b[39;00m\n\u001b[0;32m    356\u001b[0m \u001b[38;5;28;01mreturn\u001b[39;00m obj, end\n",
      "\u001b[1;31mJSONDecodeError\u001b[0m: Expecting value: line 1 column 1 (char 0)",
      "\nDuring handling of the above exception, another exception occurred:\n",
      "\u001b[1;31mJSONDecodeError\u001b[0m                           Traceback (most recent call last)",
      "Cell \u001b[1;32mIn[13], line 1\u001b[0m\n\u001b[1;32m----> 1\u001b[0m data \u001b[38;5;241m=\u001b[39m \u001b[43mpeticion\u001b[49m\u001b[38;5;241;43m.\u001b[39;49m\u001b[43mjson\u001b[49m\u001b[43m(\u001b[49m\u001b[43m)\u001b[49m\n",
      "File \u001b[1;32mc:\\Users\\Alejandra\\AppData\\Local\\Programs\\Python\\Python312\\Lib\\site-packages\\requests\\models.py:978\u001b[0m, in \u001b[0;36mResponse.json\u001b[1;34m(self, **kwargs)\u001b[0m\n\u001b[0;32m    974\u001b[0m     \u001b[38;5;28;01mreturn\u001b[39;00m complexjson\u001b[38;5;241m.\u001b[39mloads(\u001b[38;5;28mself\u001b[39m\u001b[38;5;241m.\u001b[39mtext, \u001b[38;5;241m*\u001b[39m\u001b[38;5;241m*\u001b[39mkwargs)\n\u001b[0;32m    975\u001b[0m \u001b[38;5;28;01mexcept\u001b[39;00m JSONDecodeError \u001b[38;5;28;01mas\u001b[39;00m e:\n\u001b[0;32m    976\u001b[0m     \u001b[38;5;66;03m# Catch JSON-related errors and raise as requests.JSONDecodeError\u001b[39;00m\n\u001b[0;32m    977\u001b[0m     \u001b[38;5;66;03m# This aliases json.JSONDecodeError and simplejson.JSONDecodeError\u001b[39;00m\n\u001b[1;32m--> 978\u001b[0m     \u001b[38;5;28;01mraise\u001b[39;00m RequestsJSONDecodeError(e\u001b[38;5;241m.\u001b[39mmsg, e\u001b[38;5;241m.\u001b[39mdoc, e\u001b[38;5;241m.\u001b[39mpos)\n",
      "\u001b[1;31mJSONDecodeError\u001b[0m: Expecting value: line 1 column 1 (char 0)"
     ]
    }
   ],
   "source": [
    "data = peticion.json()"
   ]
  },
  {
   "cell_type": "code",
   "execution_count": 29,
   "metadata": {},
   "outputs": [
    {
     "data": {
      "text/plain": [
       "<enumerate at 0x24db54d3fb0>"
      ]
     },
     "execution_count": 29,
     "metadata": {},
     "output_type": "execute_result"
    }
   ],
   "source": [
    "enumerate(data)"
   ]
  },
  {
   "cell_type": "code",
   "execution_count": 14,
   "metadata": {},
   "outputs": [
    {
     "data": {
      "text/plain": [
       "{'info': {'count': 40},\n",
       " 'results': [{'id': 59724,\n",
       "   'title': 'Pál Adrienn',\n",
       "   'type': 'Movie',\n",
       "   'year': '2010',\n",
       "   'genre': 'Drama',\n",
       "   'idOwner': 'tt0146592',\n",
       "   'image': 'https://m.media-amazon.com/images/M/MV5BODNjZmM3MWYtYmUwZC00M2RjLTkyZmEtYzRhMDU1NmM3ZmIzXkEyXkFqcGdeQXVyOTAzODAwOQ@@._V1_.jpg'},\n",
       "  {'id': 59725,\n",
       "   'title': 'Oda az igazság',\n",
       "   'type': 'Movie',\n",
       "   'year': '2010',\n",
       "   'genre': 'Drama',\n",
       "   'idOwner': 'tt0154039',\n",
       "   'image': 'https://m.media-amazon.com/images/M/MV5BM2U4NWIxMjQtZTE4ZC00MThmLTlmMTktMWM3OTQ3ODc1ZmI4L2ltYWdlL2ltYWdlXkEyXkFqcGdeQXVyMjIzMDAwOTc@._V1_.jpg'},\n",
       "  {'id': 59726,\n",
       "   'title': 'A zöld sárkány gyermekei',\n",
       "   'type': 'Movie',\n",
       "   'year': '2010',\n",
       "   'genre': 'Drama',\n",
       "   'idOwner': 'tt0162942',\n",
       "   'image': 'https://m.media-amazon.com/images/M/MV5BNDhkMTJkNTYtMTYwZS00NTYwLTgzZGYtMTlmYWE3MWM1NGVhXkEyXkFqcGdeQXVyNzM0MDQ1Mw@@._V1_.jpg'},\n",
       "  {'id': 59727,\n",
       "   'title': 'Flexing with Monty',\n",
       "   'type': 'Video',\n",
       "   'year': '2010',\n",
       "   'genre': 'Drama',\n",
       "   'idOwner': 'tt0200641',\n",
       "   'image': 'https://m.media-amazon.com/images/M/MV5BMTY4MTE2MTQyNF5BMl5BanBnXkFtZTcwMTA4MDk5Mg@@._V1_.jpg'},\n",
       "  {'id': 59728,\n",
       "   'title': 'The Final Journey',\n",
       "   'type': 'Movie',\n",
       "   'year': '2010',\n",
       "   'genre': 'Drama',\n",
       "   'idOwner': 'tt0230212',\n",
       "   'image': 'https://m.media-amazon.com/images/M/MV5BNDY0NDMwNjg5Ml5BMl5BanBnXkFtZTcwOTU0NTc4Mw@@._V1_.jpg'},\n",
       "  {'id': 59729,\n",
       "   'title': 'In My Sleep',\n",
       "   'type': 'Movie',\n",
       "   'year': '2010',\n",
       "   'genre': 'Drama',\n",
       "   'idOwner': 'tt0326965',\n",
       "   'image': 'https://m.media-amazon.com/images/M/MV5BNzg1MDM1NzIwMV5BMl5BanBnXkFtZTcwNzMxMTU1MQ@@._V1_.jpg'},\n",
       "  {'id': 59730,\n",
       "   'title': 'This Wretched Life',\n",
       "   'type': 'Movie',\n",
       "   'year': '2010',\n",
       "   'genre': 'Drama',\n",
       "   'idOwner': 'tt0331312',\n",
       "   'image': 'https://m.media-amazon.com/images/M/MV5BMTU3ODgxNjE4M15BMl5BanBnXkFtZTgwMTEyNjY0MTE@._V1_.jpg'},\n",
       "  {'id': 59731,\n",
       "   'title': 'Blind Sided',\n",
       "   'type': 'Movie',\n",
       "   'year': '2010',\n",
       "   'genre': 'Drama',\n",
       "   'idOwner': 'tt0337882',\n",
       "   'image': 'https://m.media-amazon.com/images/M/MV5BMTY3NjQxMzAyOF5BMl5BanBnXkFtZTcwMjcyNTMyMw@@._V1_.jpg'},\n",
       "  {'id': 59732,\n",
       "   'title': 'Death of a Nation',\n",
       "   'type': 'Short',\n",
       "   'year': '2010',\n",
       "   'genre': 'Drama',\n",
       "   'idOwner': 'tt0370451',\n",
       "   'image': 'https://m.media-amazon.com/images/M/MV5BMTgzMTAwNDkzOF5BMl5BanBnXkFtZTcwODc3ODUzMQ@@._V1_.jpg'},\n",
       "  {'id': 59733,\n",
       "   'title': 'The Pacific',\n",
       "   'type': 'TV Mini Series',\n",
       "   'year': '2010',\n",
       "   'genre': 'Drama',\n",
       "   'idOwner': 'tt0374463',\n",
       "   'image': 'https://m.media-amazon.com/images/M/MV5BNmEwNmI1MjItNjNjYy00NDE5LWJiNTYtM2QxMTI5ZjllZTBhL2ltYWdlXkEyXkFqcGdeQXVyNTAyODkwOQ@@._V1_.jpg'},\n",
       "  {'id': 59734,\n",
       "   'title': 'Pál Adrienn',\n",
       "   'type': 'Movie',\n",
       "   'year': '2010',\n",
       "   'genre': 'Drama',\n",
       "   'idOwner': 'tt0146592',\n",
       "   'image': 'https://m.media-amazon.com/images/M/MV5BODNjZmM3MWYtYmUwZC00M2RjLTkyZmEtYzRhMDU1NmM3ZmIzXkEyXkFqcGdeQXVyOTAzODAwOQ@@._V1_.jpg'},\n",
       "  {'id': 59735,\n",
       "   'title': 'Oda az igazság',\n",
       "   'type': 'Movie',\n",
       "   'year': '2010',\n",
       "   'genre': 'Drama',\n",
       "   'idOwner': 'tt0154039',\n",
       "   'image': 'https://m.media-amazon.com/images/M/MV5BM2U4NWIxMjQtZTE4ZC00MThmLTlmMTktMWM3OTQ3ODc1ZmI4L2ltYWdlL2ltYWdlXkEyXkFqcGdeQXVyMjIzMDAwOTc@._V1_.jpg'},\n",
       "  {'id': 59736,\n",
       "   'title': 'A zöld sárkány gyermekei',\n",
       "   'type': 'Movie',\n",
       "   'year': '2010',\n",
       "   'genre': 'Drama',\n",
       "   'idOwner': 'tt0162942',\n",
       "   'image': 'https://m.media-amazon.com/images/M/MV5BNDhkMTJkNTYtMTYwZS00NTYwLTgzZGYtMTlmYWE3MWM1NGVhXkEyXkFqcGdeQXVyNzM0MDQ1Mw@@._V1_.jpg'},\n",
       "  {'id': 59737,\n",
       "   'title': 'Flexing with Monty',\n",
       "   'type': 'Video',\n",
       "   'year': '2010',\n",
       "   'genre': 'Drama',\n",
       "   'idOwner': 'tt0200641',\n",
       "   'image': 'https://m.media-amazon.com/images/M/MV5BMTY4MTE2MTQyNF5BMl5BanBnXkFtZTcwMTA4MDk5Mg@@._V1_.jpg'},\n",
       "  {'id': 59738,\n",
       "   'title': 'The Final Journey',\n",
       "   'type': 'Movie',\n",
       "   'year': '2010',\n",
       "   'genre': 'Drama',\n",
       "   'idOwner': 'tt0230212',\n",
       "   'image': 'https://m.media-amazon.com/images/M/MV5BNDY0NDMwNjg5Ml5BMl5BanBnXkFtZTcwOTU0NTc4Mw@@._V1_.jpg'},\n",
       "  {'id': 59739,\n",
       "   'title': 'In My Sleep',\n",
       "   'type': 'Movie',\n",
       "   'year': '2010',\n",
       "   'genre': 'Drama',\n",
       "   'idOwner': 'tt0326965',\n",
       "   'image': 'https://m.media-amazon.com/images/M/MV5BNzg1MDM1NzIwMV5BMl5BanBnXkFtZTcwNzMxMTU1MQ@@._V1_.jpg'},\n",
       "  {'id': 59740,\n",
       "   'title': 'This Wretched Life',\n",
       "   'type': 'Movie',\n",
       "   'year': '2010',\n",
       "   'genre': 'Drama',\n",
       "   'idOwner': 'tt0331312',\n",
       "   'image': 'https://m.media-amazon.com/images/M/MV5BMTU3ODgxNjE4M15BMl5BanBnXkFtZTgwMTEyNjY0MTE@._V1_.jpg'},\n",
       "  {'id': 59741,\n",
       "   'title': 'Blind Sided',\n",
       "   'type': 'Movie',\n",
       "   'year': '2010',\n",
       "   'genre': 'Drama',\n",
       "   'idOwner': 'tt0337882',\n",
       "   'image': 'https://m.media-amazon.com/images/M/MV5BMTY3NjQxMzAyOF5BMl5BanBnXkFtZTcwMjcyNTMyMw@@._V1_.jpg'},\n",
       "  {'id': 59742,\n",
       "   'title': 'Death of a Nation',\n",
       "   'type': 'Short',\n",
       "   'year': '2010',\n",
       "   'genre': 'Drama',\n",
       "   'idOwner': 'tt0370451',\n",
       "   'image': 'https://m.media-amazon.com/images/M/MV5BMTgzMTAwNDkzOF5BMl5BanBnXkFtZTcwODc3ODUzMQ@@._V1_.jpg'},\n",
       "  {'id': 59743,\n",
       "   'title': 'The Pacific',\n",
       "   'type': 'TV Mini Series',\n",
       "   'year': '2010',\n",
       "   'genre': 'Drama',\n",
       "   'idOwner': 'tt0374463',\n",
       "   'image': 'https://m.media-amazon.com/images/M/MV5BNmEwNmI1MjItNjNjYy00NDE5LWJiNTYtM2QxMTI5ZjllZTBhL2ltYWdlXkEyXkFqcGdeQXVyNTAyODkwOQ@@._V1_.jpg'},\n",
       "  {'id': 59744,\n",
       "   'title': 'Pál Adrienn',\n",
       "   'type': 'Movie',\n",
       "   'year': '2010',\n",
       "   'genre': 'Drama',\n",
       "   'idOwner': 'tt0146592',\n",
       "   'image': 'https://m.media-amazon.com/images/M/MV5BODNjZmM3MWYtYmUwZC00M2RjLTkyZmEtYzRhMDU1NmM3ZmIzXkEyXkFqcGdeQXVyOTAzODAwOQ@@._V1_.jpg'},\n",
       "  {'id': 59745,\n",
       "   'title': 'Oda az igazság',\n",
       "   'type': 'Movie',\n",
       "   'year': '2010',\n",
       "   'genre': 'Drama',\n",
       "   'idOwner': 'tt0154039',\n",
       "   'image': 'https://m.media-amazon.com/images/M/MV5BM2U4NWIxMjQtZTE4ZC00MThmLTlmMTktMWM3OTQ3ODc1ZmI4L2ltYWdlL2ltYWdlXkEyXkFqcGdeQXVyMjIzMDAwOTc@._V1_.jpg'},\n",
       "  {'id': 59746,\n",
       "   'title': 'A zöld sárkány gyermekei',\n",
       "   'type': 'Movie',\n",
       "   'year': '2010',\n",
       "   'genre': 'Drama',\n",
       "   'idOwner': 'tt0162942',\n",
       "   'image': 'https://m.media-amazon.com/images/M/MV5BNDhkMTJkNTYtMTYwZS00NTYwLTgzZGYtMTlmYWE3MWM1NGVhXkEyXkFqcGdeQXVyNzM0MDQ1Mw@@._V1_.jpg'},\n",
       "  {'id': 59747,\n",
       "   'title': 'Flexing with Monty',\n",
       "   'type': 'Video',\n",
       "   'year': '2010',\n",
       "   'genre': 'Drama',\n",
       "   'idOwner': 'tt0200641',\n",
       "   'image': 'https://m.media-amazon.com/images/M/MV5BMTY4MTE2MTQyNF5BMl5BanBnXkFtZTcwMTA4MDk5Mg@@._V1_.jpg'},\n",
       "  {'id': 59748,\n",
       "   'title': 'The Final Journey',\n",
       "   'type': 'Movie',\n",
       "   'year': '2010',\n",
       "   'genre': 'Drama',\n",
       "   'idOwner': 'tt0230212',\n",
       "   'image': 'https://m.media-amazon.com/images/M/MV5BNDY0NDMwNjg5Ml5BMl5BanBnXkFtZTcwOTU0NTc4Mw@@._V1_.jpg'},\n",
       "  {'id': 59749,\n",
       "   'title': 'In My Sleep',\n",
       "   'type': 'Movie',\n",
       "   'year': '2010',\n",
       "   'genre': 'Drama',\n",
       "   'idOwner': 'tt0326965',\n",
       "   'image': 'https://m.media-amazon.com/images/M/MV5BNzg1MDM1NzIwMV5BMl5BanBnXkFtZTcwNzMxMTU1MQ@@._V1_.jpg'},\n",
       "  {'id': 59750,\n",
       "   'title': 'This Wretched Life',\n",
       "   'type': 'Movie',\n",
       "   'year': '2010',\n",
       "   'genre': 'Drama',\n",
       "   'idOwner': 'tt0331312',\n",
       "   'image': 'https://m.media-amazon.com/images/M/MV5BMTU3ODgxNjE4M15BMl5BanBnXkFtZTgwMTEyNjY0MTE@._V1_.jpg'},\n",
       "  {'id': 59751,\n",
       "   'title': 'Blind Sided',\n",
       "   'type': 'Movie',\n",
       "   'year': '2010',\n",
       "   'genre': 'Drama',\n",
       "   'idOwner': 'tt0337882',\n",
       "   'image': 'https://m.media-amazon.com/images/M/MV5BMTY3NjQxMzAyOF5BMl5BanBnXkFtZTcwMjcyNTMyMw@@._V1_.jpg'},\n",
       "  {'id': 59752,\n",
       "   'title': 'Death of a Nation',\n",
       "   'type': 'Short',\n",
       "   'year': '2010',\n",
       "   'genre': 'Drama',\n",
       "   'idOwner': 'tt0370451',\n",
       "   'image': 'https://m.media-amazon.com/images/M/MV5BMTgzMTAwNDkzOF5BMl5BanBnXkFtZTcwODc3ODUzMQ@@._V1_.jpg'},\n",
       "  {'id': 59753,\n",
       "   'title': 'The Pacific',\n",
       "   'type': 'TV Mini Series',\n",
       "   'year': '2010',\n",
       "   'genre': 'Drama',\n",
       "   'idOwner': 'tt0374463',\n",
       "   'image': 'https://m.media-amazon.com/images/M/MV5BNmEwNmI1MjItNjNjYy00NDE5LWJiNTYtM2QxMTI5ZjllZTBhL2ltYWdlXkEyXkFqcGdeQXVyNTAyODkwOQ@@._V1_.jpg'},\n",
       "  {'id': 59754,\n",
       "   'title': 'Pál Adrienn',\n",
       "   'type': 'Movie',\n",
       "   'year': '2010',\n",
       "   'genre': 'Drama',\n",
       "   'idOwner': 'tt0146592',\n",
       "   'image': 'https://m.media-amazon.com/images/M/MV5BODNjZmM3MWYtYmUwZC00M2RjLTkyZmEtYzRhMDU1NmM3ZmIzXkEyXkFqcGdeQXVyOTAzODAwOQ@@._V1_.jpg'},\n",
       "  {'id': 59755,\n",
       "   'title': 'Oda az igazság',\n",
       "   'type': 'Movie',\n",
       "   'year': '2010',\n",
       "   'genre': 'Drama',\n",
       "   'idOwner': 'tt0154039',\n",
       "   'image': 'https://m.media-amazon.com/images/M/MV5BM2U4NWIxMjQtZTE4ZC00MThmLTlmMTktMWM3OTQ3ODc1ZmI4L2ltYWdlL2ltYWdlXkEyXkFqcGdeQXVyMjIzMDAwOTc@._V1_.jpg'},\n",
       "  {'id': 59756,\n",
       "   'title': 'A zöld sárkány gyermekei',\n",
       "   'type': 'Movie',\n",
       "   'year': '2010',\n",
       "   'genre': 'Drama',\n",
       "   'idOwner': 'tt0162942',\n",
       "   'image': 'https://m.media-amazon.com/images/M/MV5BNDhkMTJkNTYtMTYwZS00NTYwLTgzZGYtMTlmYWE3MWM1NGVhXkEyXkFqcGdeQXVyNzM0MDQ1Mw@@._V1_.jpg'},\n",
       "  {'id': 59757,\n",
       "   'title': 'Flexing with Monty',\n",
       "   'type': 'Video',\n",
       "   'year': '2010',\n",
       "   'genre': 'Drama',\n",
       "   'idOwner': 'tt0200641',\n",
       "   'image': 'https://m.media-amazon.com/images/M/MV5BMTY4MTE2MTQyNF5BMl5BanBnXkFtZTcwMTA4MDk5Mg@@._V1_.jpg'},\n",
       "  {'id': 59758,\n",
       "   'title': 'The Final Journey',\n",
       "   'type': 'Movie',\n",
       "   'year': '2010',\n",
       "   'genre': 'Drama',\n",
       "   'idOwner': 'tt0230212',\n",
       "   'image': 'https://m.media-amazon.com/images/M/MV5BNDY0NDMwNjg5Ml5BMl5BanBnXkFtZTcwOTU0NTc4Mw@@._V1_.jpg'},\n",
       "  {'id': 59759,\n",
       "   'title': 'In My Sleep',\n",
       "   'type': 'Movie',\n",
       "   'year': '2010',\n",
       "   'genre': 'Drama',\n",
       "   'idOwner': 'tt0326965',\n",
       "   'image': 'https://m.media-amazon.com/images/M/MV5BNzg1MDM1NzIwMV5BMl5BanBnXkFtZTcwNzMxMTU1MQ@@._V1_.jpg'},\n",
       "  {'id': 59760,\n",
       "   'title': 'This Wretched Life',\n",
       "   'type': 'Movie',\n",
       "   'year': '2010',\n",
       "   'genre': 'Drama',\n",
       "   'idOwner': 'tt0331312',\n",
       "   'image': 'https://m.media-amazon.com/images/M/MV5BMTU3ODgxNjE4M15BMl5BanBnXkFtZTgwMTEyNjY0MTE@._V1_.jpg'},\n",
       "  {'id': 59761,\n",
       "   'title': 'Blind Sided',\n",
       "   'type': 'Movie',\n",
       "   'year': '2010',\n",
       "   'genre': 'Drama',\n",
       "   'idOwner': 'tt0337882',\n",
       "   'image': 'https://m.media-amazon.com/images/M/MV5BMTY3NjQxMzAyOF5BMl5BanBnXkFtZTcwMjcyNTMyMw@@._V1_.jpg'},\n",
       "  {'id': 59762,\n",
       "   'title': 'Death of a Nation',\n",
       "   'type': 'Short',\n",
       "   'year': '2010',\n",
       "   'genre': 'Drama',\n",
       "   'idOwner': 'tt0370451',\n",
       "   'image': 'https://m.media-amazon.com/images/M/MV5BMTgzMTAwNDkzOF5BMl5BanBnXkFtZTcwODc3ODUzMQ@@._V1_.jpg'},\n",
       "  {'id': 59763,\n",
       "   'title': 'The Pacific',\n",
       "   'type': 'TV Mini Series',\n",
       "   'year': '2010',\n",
       "   'genre': 'Drama',\n",
       "   'idOwner': 'tt0374463',\n",
       "   'image': 'https://m.media-amazon.com/images/M/MV5BNmEwNmI1MjItNjNjYy00NDE5LWJiNTYtM2QxMTI5ZjllZTBhL2ltYWdlXkEyXkFqcGdeQXVyNTAyODkwOQ@@._V1_.jpg'}]}"
      ]
     },
     "execution_count": 14,
     "metadata": {},
     "output_type": "execute_result"
    }
   ],
   "source": [
    "data"
   ]
  },
  {
   "cell_type": "code",
   "execution_count": 17,
   "metadata": {},
   "outputs": [
    {
     "data": {
      "text/plain": [
       "2"
      ]
     },
     "execution_count": 17,
     "metadata": {},
     "output_type": "execute_result"
    }
   ],
   "source": [
    "len(data)"
   ]
  },
  {
   "cell_type": "code",
   "execution_count": 18,
   "metadata": {},
   "outputs": [
    {
     "data": {
      "text/plain": [
       "dict_keys(['info', 'results'])"
      ]
     },
     "execution_count": 18,
     "metadata": {},
     "output_type": "execute_result"
    }
   ],
   "source": [
    "data.keys()"
   ]
  },
  {
   "cell_type": "code",
   "execution_count": 19,
   "metadata": {},
   "outputs": [
    {
     "data": {
      "text/plain": [
       "dict_values([{'count': 40}, [{'id': 59724, 'title': 'Pál Adrienn', 'type': 'Movie', 'year': '2010', 'genre': 'Drama', 'idOwner': 'tt0146592', 'image': 'https://m.media-amazon.com/images/M/MV5BODNjZmM3MWYtYmUwZC00M2RjLTkyZmEtYzRhMDU1NmM3ZmIzXkEyXkFqcGdeQXVyOTAzODAwOQ@@._V1_.jpg'}, {'id': 59725, 'title': 'Oda az igazság', 'type': 'Movie', 'year': '2010', 'genre': 'Drama', 'idOwner': 'tt0154039', 'image': 'https://m.media-amazon.com/images/M/MV5BM2U4NWIxMjQtZTE4ZC00MThmLTlmMTktMWM3OTQ3ODc1ZmI4L2ltYWdlL2ltYWdlXkEyXkFqcGdeQXVyMjIzMDAwOTc@._V1_.jpg'}, {'id': 59726, 'title': 'A zöld sárkány gyermekei', 'type': 'Movie', 'year': '2010', 'genre': 'Drama', 'idOwner': 'tt0162942', 'image': 'https://m.media-amazon.com/images/M/MV5BNDhkMTJkNTYtMTYwZS00NTYwLTgzZGYtMTlmYWE3MWM1NGVhXkEyXkFqcGdeQXVyNzM0MDQ1Mw@@._V1_.jpg'}, {'id': 59727, 'title': 'Flexing with Monty', 'type': 'Video', 'year': '2010', 'genre': 'Drama', 'idOwner': 'tt0200641', 'image': 'https://m.media-amazon.com/images/M/MV5BMTY4MTE2MTQyNF5BMl5BanBnXkFtZTcwMTA4MDk5Mg@@._V1_.jpg'}, {'id': 59728, 'title': 'The Final Journey', 'type': 'Movie', 'year': '2010', 'genre': 'Drama', 'idOwner': 'tt0230212', 'image': 'https://m.media-amazon.com/images/M/MV5BNDY0NDMwNjg5Ml5BMl5BanBnXkFtZTcwOTU0NTc4Mw@@._V1_.jpg'}, {'id': 59729, 'title': 'In My Sleep', 'type': 'Movie', 'year': '2010', 'genre': 'Drama', 'idOwner': 'tt0326965', 'image': 'https://m.media-amazon.com/images/M/MV5BNzg1MDM1NzIwMV5BMl5BanBnXkFtZTcwNzMxMTU1MQ@@._V1_.jpg'}, {'id': 59730, 'title': 'This Wretched Life', 'type': 'Movie', 'year': '2010', 'genre': 'Drama', 'idOwner': 'tt0331312', 'image': 'https://m.media-amazon.com/images/M/MV5BMTU3ODgxNjE4M15BMl5BanBnXkFtZTgwMTEyNjY0MTE@._V1_.jpg'}, {'id': 59731, 'title': 'Blind Sided', 'type': 'Movie', 'year': '2010', 'genre': 'Drama', 'idOwner': 'tt0337882', 'image': 'https://m.media-amazon.com/images/M/MV5BMTY3NjQxMzAyOF5BMl5BanBnXkFtZTcwMjcyNTMyMw@@._V1_.jpg'}, {'id': 59732, 'title': 'Death of a Nation', 'type': 'Short', 'year': '2010', 'genre': 'Drama', 'idOwner': 'tt0370451', 'image': 'https://m.media-amazon.com/images/M/MV5BMTgzMTAwNDkzOF5BMl5BanBnXkFtZTcwODc3ODUzMQ@@._V1_.jpg'}, {'id': 59733, 'title': 'The Pacific', 'type': 'TV Mini Series', 'year': '2010', 'genre': 'Drama', 'idOwner': 'tt0374463', 'image': 'https://m.media-amazon.com/images/M/MV5BNmEwNmI1MjItNjNjYy00NDE5LWJiNTYtM2QxMTI5ZjllZTBhL2ltYWdlXkEyXkFqcGdeQXVyNTAyODkwOQ@@._V1_.jpg'}, {'id': 59734, 'title': 'Pál Adrienn', 'type': 'Movie', 'year': '2010', 'genre': 'Drama', 'idOwner': 'tt0146592', 'image': 'https://m.media-amazon.com/images/M/MV5BODNjZmM3MWYtYmUwZC00M2RjLTkyZmEtYzRhMDU1NmM3ZmIzXkEyXkFqcGdeQXVyOTAzODAwOQ@@._V1_.jpg'}, {'id': 59735, 'title': 'Oda az igazság', 'type': 'Movie', 'year': '2010', 'genre': 'Drama', 'idOwner': 'tt0154039', 'image': 'https://m.media-amazon.com/images/M/MV5BM2U4NWIxMjQtZTE4ZC00MThmLTlmMTktMWM3OTQ3ODc1ZmI4L2ltYWdlL2ltYWdlXkEyXkFqcGdeQXVyMjIzMDAwOTc@._V1_.jpg'}, {'id': 59736, 'title': 'A zöld sárkány gyermekei', 'type': 'Movie', 'year': '2010', 'genre': 'Drama', 'idOwner': 'tt0162942', 'image': 'https://m.media-amazon.com/images/M/MV5BNDhkMTJkNTYtMTYwZS00NTYwLTgzZGYtMTlmYWE3MWM1NGVhXkEyXkFqcGdeQXVyNzM0MDQ1Mw@@._V1_.jpg'}, {'id': 59737, 'title': 'Flexing with Monty', 'type': 'Video', 'year': '2010', 'genre': 'Drama', 'idOwner': 'tt0200641', 'image': 'https://m.media-amazon.com/images/M/MV5BMTY4MTE2MTQyNF5BMl5BanBnXkFtZTcwMTA4MDk5Mg@@._V1_.jpg'}, {'id': 59738, 'title': 'The Final Journey', 'type': 'Movie', 'year': '2010', 'genre': 'Drama', 'idOwner': 'tt0230212', 'image': 'https://m.media-amazon.com/images/M/MV5BNDY0NDMwNjg5Ml5BMl5BanBnXkFtZTcwOTU0NTc4Mw@@._V1_.jpg'}, {'id': 59739, 'title': 'In My Sleep', 'type': 'Movie', 'year': '2010', 'genre': 'Drama', 'idOwner': 'tt0326965', 'image': 'https://m.media-amazon.com/images/M/MV5BNzg1MDM1NzIwMV5BMl5BanBnXkFtZTcwNzMxMTU1MQ@@._V1_.jpg'}, {'id': 59740, 'title': 'This Wretched Life', 'type': 'Movie', 'year': '2010', 'genre': 'Drama', 'idOwner': 'tt0331312', 'image': 'https://m.media-amazon.com/images/M/MV5BMTU3ODgxNjE4M15BMl5BanBnXkFtZTgwMTEyNjY0MTE@._V1_.jpg'}, {'id': 59741, 'title': 'Blind Sided', 'type': 'Movie', 'year': '2010', 'genre': 'Drama', 'idOwner': 'tt0337882', 'image': 'https://m.media-amazon.com/images/M/MV5BMTY3NjQxMzAyOF5BMl5BanBnXkFtZTcwMjcyNTMyMw@@._V1_.jpg'}, {'id': 59742, 'title': 'Death of a Nation', 'type': 'Short', 'year': '2010', 'genre': 'Drama', 'idOwner': 'tt0370451', 'image': 'https://m.media-amazon.com/images/M/MV5BMTgzMTAwNDkzOF5BMl5BanBnXkFtZTcwODc3ODUzMQ@@._V1_.jpg'}, {'id': 59743, 'title': 'The Pacific', 'type': 'TV Mini Series', 'year': '2010', 'genre': 'Drama', 'idOwner': 'tt0374463', 'image': 'https://m.media-amazon.com/images/M/MV5BNmEwNmI1MjItNjNjYy00NDE5LWJiNTYtM2QxMTI5ZjllZTBhL2ltYWdlXkEyXkFqcGdeQXVyNTAyODkwOQ@@._V1_.jpg'}, {'id': 59744, 'title': 'Pál Adrienn', 'type': 'Movie', 'year': '2010', 'genre': 'Drama', 'idOwner': 'tt0146592', 'image': 'https://m.media-amazon.com/images/M/MV5BODNjZmM3MWYtYmUwZC00M2RjLTkyZmEtYzRhMDU1NmM3ZmIzXkEyXkFqcGdeQXVyOTAzODAwOQ@@._V1_.jpg'}, {'id': 59745, 'title': 'Oda az igazság', 'type': 'Movie', 'year': '2010', 'genre': 'Drama', 'idOwner': 'tt0154039', 'image': 'https://m.media-amazon.com/images/M/MV5BM2U4NWIxMjQtZTE4ZC00MThmLTlmMTktMWM3OTQ3ODc1ZmI4L2ltYWdlL2ltYWdlXkEyXkFqcGdeQXVyMjIzMDAwOTc@._V1_.jpg'}, {'id': 59746, 'title': 'A zöld sárkány gyermekei', 'type': 'Movie', 'year': '2010', 'genre': 'Drama', 'idOwner': 'tt0162942', 'image': 'https://m.media-amazon.com/images/M/MV5BNDhkMTJkNTYtMTYwZS00NTYwLTgzZGYtMTlmYWE3MWM1NGVhXkEyXkFqcGdeQXVyNzM0MDQ1Mw@@._V1_.jpg'}, {'id': 59747, 'title': 'Flexing with Monty', 'type': 'Video', 'year': '2010', 'genre': 'Drama', 'idOwner': 'tt0200641', 'image': 'https://m.media-amazon.com/images/M/MV5BMTY4MTE2MTQyNF5BMl5BanBnXkFtZTcwMTA4MDk5Mg@@._V1_.jpg'}, {'id': 59748, 'title': 'The Final Journey', 'type': 'Movie', 'year': '2010', 'genre': 'Drama', 'idOwner': 'tt0230212', 'image': 'https://m.media-amazon.com/images/M/MV5BNDY0NDMwNjg5Ml5BMl5BanBnXkFtZTcwOTU0NTc4Mw@@._V1_.jpg'}, {'id': 59749, 'title': 'In My Sleep', 'type': 'Movie', 'year': '2010', 'genre': 'Drama', 'idOwner': 'tt0326965', 'image': 'https://m.media-amazon.com/images/M/MV5BNzg1MDM1NzIwMV5BMl5BanBnXkFtZTcwNzMxMTU1MQ@@._V1_.jpg'}, {'id': 59750, 'title': 'This Wretched Life', 'type': 'Movie', 'year': '2010', 'genre': 'Drama', 'idOwner': 'tt0331312', 'image': 'https://m.media-amazon.com/images/M/MV5BMTU3ODgxNjE4M15BMl5BanBnXkFtZTgwMTEyNjY0MTE@._V1_.jpg'}, {'id': 59751, 'title': 'Blind Sided', 'type': 'Movie', 'year': '2010', 'genre': 'Drama', 'idOwner': 'tt0337882', 'image': 'https://m.media-amazon.com/images/M/MV5BMTY3NjQxMzAyOF5BMl5BanBnXkFtZTcwMjcyNTMyMw@@._V1_.jpg'}, {'id': 59752, 'title': 'Death of a Nation', 'type': 'Short', 'year': '2010', 'genre': 'Drama', 'idOwner': 'tt0370451', 'image': 'https://m.media-amazon.com/images/M/MV5BMTgzMTAwNDkzOF5BMl5BanBnXkFtZTcwODc3ODUzMQ@@._V1_.jpg'}, {'id': 59753, 'title': 'The Pacific', 'type': 'TV Mini Series', 'year': '2010', 'genre': 'Drama', 'idOwner': 'tt0374463', 'image': 'https://m.media-amazon.com/images/M/MV5BNmEwNmI1MjItNjNjYy00NDE5LWJiNTYtM2QxMTI5ZjllZTBhL2ltYWdlXkEyXkFqcGdeQXVyNTAyODkwOQ@@._V1_.jpg'}, {'id': 59754, 'title': 'Pál Adrienn', 'type': 'Movie', 'year': '2010', 'genre': 'Drama', 'idOwner': 'tt0146592', 'image': 'https://m.media-amazon.com/images/M/MV5BODNjZmM3MWYtYmUwZC00M2RjLTkyZmEtYzRhMDU1NmM3ZmIzXkEyXkFqcGdeQXVyOTAzODAwOQ@@._V1_.jpg'}, {'id': 59755, 'title': 'Oda az igazság', 'type': 'Movie', 'year': '2010', 'genre': 'Drama', 'idOwner': 'tt0154039', 'image': 'https://m.media-amazon.com/images/M/MV5BM2U4NWIxMjQtZTE4ZC00MThmLTlmMTktMWM3OTQ3ODc1ZmI4L2ltYWdlL2ltYWdlXkEyXkFqcGdeQXVyMjIzMDAwOTc@._V1_.jpg'}, {'id': 59756, 'title': 'A zöld sárkány gyermekei', 'type': 'Movie', 'year': '2010', 'genre': 'Drama', 'idOwner': 'tt0162942', 'image': 'https://m.media-amazon.com/images/M/MV5BNDhkMTJkNTYtMTYwZS00NTYwLTgzZGYtMTlmYWE3MWM1NGVhXkEyXkFqcGdeQXVyNzM0MDQ1Mw@@._V1_.jpg'}, {'id': 59757, 'title': 'Flexing with Monty', 'type': 'Video', 'year': '2010', 'genre': 'Drama', 'idOwner': 'tt0200641', 'image': 'https://m.media-amazon.com/images/M/MV5BMTY4MTE2MTQyNF5BMl5BanBnXkFtZTcwMTA4MDk5Mg@@._V1_.jpg'}, {'id': 59758, 'title': 'The Final Journey', 'type': 'Movie', 'year': '2010', 'genre': 'Drama', 'idOwner': 'tt0230212', 'image': 'https://m.media-amazon.com/images/M/MV5BNDY0NDMwNjg5Ml5BMl5BanBnXkFtZTcwOTU0NTc4Mw@@._V1_.jpg'}, {'id': 59759, 'title': 'In My Sleep', 'type': 'Movie', 'year': '2010', 'genre': 'Drama', 'idOwner': 'tt0326965', 'image': 'https://m.media-amazon.com/images/M/MV5BNzg1MDM1NzIwMV5BMl5BanBnXkFtZTcwNzMxMTU1MQ@@._V1_.jpg'}, {'id': 59760, 'title': 'This Wretched Life', 'type': 'Movie', 'year': '2010', 'genre': 'Drama', 'idOwner': 'tt0331312', 'image': 'https://m.media-amazon.com/images/M/MV5BMTU3ODgxNjE4M15BMl5BanBnXkFtZTgwMTEyNjY0MTE@._V1_.jpg'}, {'id': 59761, 'title': 'Blind Sided', 'type': 'Movie', 'year': '2010', 'genre': 'Drama', 'idOwner': 'tt0337882', 'image': 'https://m.media-amazon.com/images/M/MV5BMTY3NjQxMzAyOF5BMl5BanBnXkFtZTcwMjcyNTMyMw@@._V1_.jpg'}, {'id': 59762, 'title': 'Death of a Nation', 'type': 'Short', 'year': '2010', 'genre': 'Drama', 'idOwner': 'tt0370451', 'image': 'https://m.media-amazon.com/images/M/MV5BMTgzMTAwNDkzOF5BMl5BanBnXkFtZTcwODc3ODUzMQ@@._V1_.jpg'}, {'id': 59763, 'title': 'The Pacific', 'type': 'TV Mini Series', 'year': '2010', 'genre': 'Drama', 'idOwner': 'tt0374463', 'image': 'https://m.media-amazon.com/images/M/MV5BNmEwNmI1MjItNjNjYy00NDE5LWJiNTYtM2QxMTI5ZjllZTBhL2ltYWdlXkEyXkFqcGdeQXVyNTAyODkwOQ@@._V1_.jpg'}]])"
      ]
     },
     "execution_count": 19,
     "metadata": {},
     "output_type": "execute_result"
    }
   ],
   "source": [
    "data.values()"
   ]
  },
  {
   "cell_type": "code",
   "execution_count": 1,
   "metadata": {},
   "outputs": [
    {
     "ename": "NameError",
     "evalue": "name 'data' is not defined",
     "output_type": "error",
     "traceback": [
      "\u001b[1;31m---------------------------------------------------------------------------\u001b[0m",
      "\u001b[1;31mNameError\u001b[0m                                 Traceback (most recent call last)",
      "Cell \u001b[1;32mIn[1], line 1\u001b[0m\n\u001b[1;32m----> 1\u001b[0m \u001b[43mdata\u001b[49m[\u001b[38;5;124m\"\u001b[39m\u001b[38;5;124mresults\u001b[39m\u001b[38;5;124m\"\u001b[39m]\n",
      "\u001b[1;31mNameError\u001b[0m: name 'data' is not defined"
     ]
    }
   ],
   "source": [
    "data[\"results\"]"
   ]
  },
  {
   "cell_type": "code",
   "execution_count": null,
   "metadata": {},
   "outputs": [],
   "source": [
    "url = \"https://dev.adalab.es/api/cinema/movies?year=2010&genre=Drama\"\n",
    "\n",
    "genre_list = [\"Horror\"]\n",
    "movie_list = []\n",
    "\n",
    "for genre in genre_list:\n",
    "    print(genre)\n",
    "    for year in range(2010, 2011):\n",
    "        print(year)\n",
    "        sleep(10)\n",
    "        url = f\"https://dev.adalab.es/api/cinema/movies?year={year}&genre={genre}\"\n",
    "        response = requests.get(url)\n",
    "        response.status_code\n",
    "        movies = response.json()[\"results\"]\n",
    "        for index, movie in enumerate(movies):\n",
    "            \n"
   ]
  }
 ],
 "metadata": {
  "kernelspec": {
   "display_name": "Python 3",
   "language": "python",
   "name": "python3"
  },
  "language_info": {
   "codemirror_mode": {
    "name": "ipython",
    "version": 3
   },
   "file_extension": ".py",
   "mimetype": "text/x-python",
   "name": "python",
   "nbconvert_exporter": "python",
   "pygments_lexer": "ipython3",
   "version": "3.12.3"
  }
 },
 "nbformat": 4,
 "nbformat_minor": 2
}
