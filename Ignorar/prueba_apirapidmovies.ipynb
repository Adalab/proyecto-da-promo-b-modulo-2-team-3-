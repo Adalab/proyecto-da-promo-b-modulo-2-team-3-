{
 "cells": [
  {
   "cell_type": "code",
   "execution_count": 2,
   "metadata": {},
   "outputs": [
    {
     "name": "stdout",
     "output_type": "stream",
     "text": [
      "{'page': 1, 'next': '/titles?year=2020&page=2', 'entries': 10, 'results': [{'_id': '61e580ca909c2ca7814146a7', 'id': 'tt0060366', 'primaryImage': None, 'titleType': {'text': 'Short', 'id': 'short', 'isSeries': False, 'isEpisode': False, '__typename': 'TitleType'}, 'titleText': {'text': 'A Embalagem de Vidro', '__typename': 'TitleText'}, 'originalTitleText': {'text': 'A Embalagem de Vidro', '__typename': 'TitleText'}, 'releaseYear': {'year': 2020, 'endYear': None, '__typename': 'YearRange'}, 'releaseDate': {'day': 13, 'month': 1, 'year': 2020, '__typename': 'ReleaseDate'}}, {'_id': '61e580cfa66e5964234147a1', 'id': 'tt0062336', 'primaryImage': {'id': 'rm2725807873', 'width': 1439, 'height': 2048, 'url': 'https://m.media-amazon.com/images/M/MV5BZWU2NzQ4NDgtZTdlNC00OGQ4LTk0OGItMTliOTE2YTViZmE3XkEyXkFqcGdeQXVyMTAxMDQ0ODk@._V1_.jpg', 'caption': {'plainText': 'El Tango del Viudo y Su Espejo Deformante (2020)', '__typename': 'Markdown'}, '__typename': 'Image'}, 'titleType': {'text': 'Movie', 'id': 'movie', 'isSeries': False, 'isEpisode': False, '__typename': 'TitleType'}, 'titleText': {'text': 'El Tango del Viudo y Su Espejo Deformante', '__typename': 'TitleText'}, 'originalTitleText': {'text': 'El Tango del Viudo y Su Espejo Deformante', '__typename': 'TitleText'}, 'releaseYear': {'year': 2020, 'endYear': None, '__typename': 'YearRange'}, 'releaseDate': {'day': 20, 'month': 2, 'year': 2020, '__typename': 'ReleaseDate'}}, {'_id': '61e580dbe1a8ddbd964149df', 'id': 'tt0065392', 'primaryImage': {'id': 'rm999018753', 'width': 1517, 'height': 1078, 'url': 'https://m.media-amazon.com/images/M/MV5BN2UwZjQzYjgtNGFiYy00YzEyLThkMTAtYTQ0YjUzZWUwYTJhXkEyXkFqcGdeQXVyNDgxMDU4NTU@._V1_.jpg', 'caption': {'plainText': 'Amintiri bucurestene (2020)', '__typename': 'Markdown'}, '__typename': 'Image'}, 'titleType': {'text': 'Movie', 'id': 'movie', 'isSeries': False, 'isEpisode': False, '__typename': 'TitleType'}, 'titleText': {'text': 'Amintiri bucurestene', '__typename': 'TitleText'}, 'originalTitleText': {'text': 'Amintiri bucurestene', '__typename': 'TitleText'}, 'releaseYear': {'year': 2020, 'endYear': None, '__typename': 'YearRange'}, 'releaseDate': {'day': 30, 'month': 11, 'year': 1970, '__typename': 'ReleaseDate'}}, {'_id': '61e581398a5a6a599f415a2b', 'id': 'tt0093119', 'primaryImage': {'id': 'rm2979904257', 'width': 1365, 'height': 2048, 'url': 'https://m.media-amazon.com/images/M/MV5BOTllZjVhODgtNDllNi00ZjQ1LWJiZmMtMDdkZjgwNDgzNGQ3XkEyXkFqcGdeQXVyMTQxNzMzNDI@._V1_.jpg', 'caption': {'plainText': 'Grizzly II: The Predator (2020)', '__typename': 'Markdown'}, '__typename': 'Image'}, 'titleType': {'text': 'Movie', 'id': 'movie', 'isSeries': False, 'isEpisode': False, '__typename': 'TitleType'}, 'titleText': {'text': 'Grizzly II: The Predator', '__typename': 'TitleText'}, 'originalTitleText': {'text': 'Grizzly II: The Predator', '__typename': 'TitleText'}, 'releaseYear': {'year': 2020, 'endYear': None, '__typename': 'YearRange'}, 'releaseDate': {'day': 8, 'month': 1, 'year': 2021, '__typename': 'ReleaseDate'}}, {'_id': '61e5822078c012aa34418955', 'id': 'tt0166938', 'primaryImage': None, 'titleType': {'text': 'TV Series', 'id': 'tvSeries', 'isSeries': True, 'isEpisode': False, '__typename': 'TitleType'}, 'titleText': {'text': 'Yo-TV', '__typename': 'TitleText'}, 'originalTitleText': {'text': 'Yo-TV', '__typename': 'TitleText'}, 'releaseYear': {'year': 2020, 'endYear': None, '__typename': 'YearRange'}, 'releaseDate': None}, {'_id': '61e5829ea66e59642341a5e1', 'id': 'tt0214297', 'primaryImage': {'id': 'rm2009934336', 'width': 640, 'height': 480, 'url': 'https://m.media-amazon.com/images/M/MV5BNmQyNjhmMTctMTQ3Mi00NjhhLWE1ZGEtZDBmNmE2YzNhN2NlXkEyXkFqcGdeQXVyMDM1MzIyMQ@@._V1_.jpg', 'caption': {'plainText': 'The Way to Shadow Garden (2020)', '__typename': 'Markdown'}, '__typename': 'Image'}, 'titleType': {'text': 'Short', 'id': 'short', 'isSeries': False, 'isEpisode': False, '__typename': 'TitleType'}, 'titleText': {'text': 'The Way to Shadow Garden', '__typename': 'TitleText'}, 'originalTitleText': {'text': 'The Way to Shadow Garden', '__typename': 'TitleText'}, 'releaseYear': {'year': 2020, 'endYear': None, '__typename': 'YearRange'}, 'releaseDate': {'day': 15, 'month': 10, 'year': 2020, '__typename': 'ReleaseDate'}}, {'_id': '61e58351971a4a15d641cef5', 'id': 'tt0280237', 'primaryImage': {'id': 'rm119472640', 'width': 500, 'height': 710, 'url': 'https://m.media-amazon.com/images/M/MV5BZTI3ZGEyYjgtOGRkYS00YzQ3LTg0ZDktYWE2NmJlZTJhOTUxXkEyXkFqcGdeQXVyNDg5MjMyMTM@._V1_.jpg', 'caption': {'plainText': 'Big Brother (2020)', '__typename': 'Markdown'}, '__typename': 'Image'}, 'titleType': {'text': 'TV Series', 'id': 'tvSeries', 'isSeries': True, 'isEpisode': False, '__typename': 'TitleType'}, 'titleText': {'text': 'Big Brother', '__typename': 'TitleText'}, 'originalTitleText': {'text': 'Big Brother', '__typename': 'TitleText'}, 'releaseYear': {'year': 2020, 'endYear': None, '__typename': 'YearRange'}, 'releaseDate': None}, {'_id': '61e58367909c2ca78141d32f', 'id': 'tt0289219', 'primaryImage': {'id': 'rm1391288064', 'width': 768, 'height': 576, 'url': 'https://m.media-amazon.com/images/M/MV5BZWE3Y2I5ZDgtYzU2Yi00ZGQzLWE3MjEtNjMyYmVlNjJhYzU1XkEyXkFqcGdeQXVyMTY2NTEyMTY@._V1_.jpg', 'caption': {'plainText': 'Herman Miller at the Brussels Worlds Fair (2020)', '__typename': 'Markdown'}, '__typename': 'Image'}, 'titleType': {'text': 'Short', 'id': 'short', 'isSeries': False, 'isEpisode': False, '__typename': 'TitleType'}, 'titleText': {'text': 'Herman Miller at the Brussels Worlds Fair', '__typename': 'TitleText'}, 'originalTitleText': {'text': 'Herman Miller at the Brussels Worlds Fair', '__typename': 'TitleText'}, 'releaseYear': {'year': 2020, 'endYear': None, '__typename': 'YearRange'}, 'releaseDate': {'day': 29, 'month': 4, 'year': 2020, '__typename': 'ReleaseDate'}}, {'_id': '61e5836fef99b1c54341d4d5', 'id': 'tt0293513', 'primaryImage': {'id': 'rm1825163265', 'width': 766, 'height': 1008, 'url': 'https://m.media-amazon.com/images/M/MV5BOTdjOGViMjUtYWE0MS00NDQzLTlmZWQtNjQyMThhMjMwMTI1XkEyXkFqcGdeQXVyNjg5ODE0MDQ@._V1_.jpg', 'caption': {'plainText': 'Pit Bull (2020)', '__typename': 'Markdown'}, '__typename': 'Image'}, 'titleType': {'text': 'Movie', 'id': 'movie', 'isSeries': False, 'isEpisode': False, '__typename': 'TitleType'}, 'titleText': {'text': 'Pit Bull', '__typename': 'TitleText'}, 'originalTitleText': {'text': 'Pit Bull', '__typename': 'TitleText'}, 'releaseYear': {'year': 2020, 'endYear': None, '__typename': 'YearRange'}, 'releaseDate': {'day': None, 'month': None, 'year': 2020, '__typename': 'ReleaseDate'}}, {'_id': '61e58382d735dff3f941d9d9', 'id': 'tt0296388', 'primaryImage': {'id': 'rm1471869953', 'width': 1920, 'height': 1080, 'url': 'https://m.media-amazon.com/images/M/MV5BMDc1YWE1MjEtODZlMC00MGU1LTk0ZTMtMWZjNDU1ZDJiYjAxXkEyXkFqcGdeQXVyMTA1Mzk1NDMy._V1_.jpg', 'caption': {'plainText': 'Norge i dag (2020)', '__typename': 'Markdown'}, '__typename': 'Image'}, 'titleType': {'text': 'TV Series', 'id': 'tvSeries', 'isSeries': True, 'isEpisode': False, '__typename': 'TitleType'}, 'titleText': {'text': 'Norge i dag', '__typename': 'TitleText'}, 'originalTitleText': {'text': 'Norge i dag', '__typename': 'TitleText'}, 'releaseYear': {'year': 2020, 'endYear': None, '__typename': 'YearRange'}, 'releaseDate': None}]}\n"
     ]
    }
   ],
   "source": [
    "import requests\n",
    "\n",
    "url = \"https://moviesdatabase.p.rapidapi.com/titles\"\n",
    "\n",
    "querystring = {\"year\":\"2020\"}\n",
    "\n",
    "headers = {\n",
    "\t\"x-rapidapi-key\": \"21e179a399msh794c9daabe72fccp165283jsn394a5b990c95\",\n",
    "\t\"x-rapidapi-host\": \"moviesdatabase.p.rapidapi.com\"\n",
    "}\n",
    "\n",
    "response = requests.get(url, headers=headers, params=querystring)\n",
    "\n",
    "print(response.json())"
   ]
  },
  {
   "cell_type": "code",
   "execution_count": 4,
   "metadata": {},
   "outputs": [],
   "source": [
    "data = response.json()"
   ]
  },
  {
   "cell_type": "code",
   "execution_count": 5,
   "metadata": {},
   "outputs": [
    {
     "data": {
      "text/plain": [
       "{'page': 1,\n",
       " 'next': '/titles?year=2020&page=2',\n",
       " 'entries': 10,\n",
       " 'results': [{'_id': '61e580ca909c2ca7814146a7',\n",
       "   'id': 'tt0060366',\n",
       "   'primaryImage': None,\n",
       "   'titleType': {'text': 'Short',\n",
       "    'id': 'short',\n",
       "    'isSeries': False,\n",
       "    'isEpisode': False,\n",
       "    '__typename': 'TitleType'},\n",
       "   'titleText': {'text': 'A Embalagem de Vidro', '__typename': 'TitleText'},\n",
       "   'originalTitleText': {'text': 'A Embalagem de Vidro',\n",
       "    '__typename': 'TitleText'},\n",
       "   'releaseYear': {'year': 2020, 'endYear': None, '__typename': 'YearRange'},\n",
       "   'releaseDate': {'day': 13,\n",
       "    'month': 1,\n",
       "    'year': 2020,\n",
       "    '__typename': 'ReleaseDate'}},\n",
       "  {'_id': '61e580cfa66e5964234147a1',\n",
       "   'id': 'tt0062336',\n",
       "   'primaryImage': {'id': 'rm2725807873',\n",
       "    'width': 1439,\n",
       "    'height': 2048,\n",
       "    'url': 'https://m.media-amazon.com/images/M/MV5BZWU2NzQ4NDgtZTdlNC00OGQ4LTk0OGItMTliOTE2YTViZmE3XkEyXkFqcGdeQXVyMTAxMDQ0ODk@._V1_.jpg',\n",
       "    'caption': {'plainText': 'El Tango del Viudo y Su Espejo Deformante (2020)',\n",
       "     '__typename': 'Markdown'},\n",
       "    '__typename': 'Image'},\n",
       "   'titleType': {'text': 'Movie',\n",
       "    'id': 'movie',\n",
       "    'isSeries': False,\n",
       "    'isEpisode': False,\n",
       "    '__typename': 'TitleType'},\n",
       "   'titleText': {'text': 'El Tango del Viudo y Su Espejo Deformante',\n",
       "    '__typename': 'TitleText'},\n",
       "   'originalTitleText': {'text': 'El Tango del Viudo y Su Espejo Deformante',\n",
       "    '__typename': 'TitleText'},\n",
       "   'releaseYear': {'year': 2020, 'endYear': None, '__typename': 'YearRange'},\n",
       "   'releaseDate': {'day': 20,\n",
       "    'month': 2,\n",
       "    'year': 2020,\n",
       "    '__typename': 'ReleaseDate'}},\n",
       "  {'_id': '61e580dbe1a8ddbd964149df',\n",
       "   'id': 'tt0065392',\n",
       "   'primaryImage': {'id': 'rm999018753',\n",
       "    'width': 1517,\n",
       "    'height': 1078,\n",
       "    'url': 'https://m.media-amazon.com/images/M/MV5BN2UwZjQzYjgtNGFiYy00YzEyLThkMTAtYTQ0YjUzZWUwYTJhXkEyXkFqcGdeQXVyNDgxMDU4NTU@._V1_.jpg',\n",
       "    'caption': {'plainText': 'Amintiri bucurestene (2020)',\n",
       "     '__typename': 'Markdown'},\n",
       "    '__typename': 'Image'},\n",
       "   'titleType': {'text': 'Movie',\n",
       "    'id': 'movie',\n",
       "    'isSeries': False,\n",
       "    'isEpisode': False,\n",
       "    '__typename': 'TitleType'},\n",
       "   'titleText': {'text': 'Amintiri bucurestene', '__typename': 'TitleText'},\n",
       "   'originalTitleText': {'text': 'Amintiri bucurestene',\n",
       "    '__typename': 'TitleText'},\n",
       "   'releaseYear': {'year': 2020, 'endYear': None, '__typename': 'YearRange'},\n",
       "   'releaseDate': {'day': 30,\n",
       "    'month': 11,\n",
       "    'year': 1970,\n",
       "    '__typename': 'ReleaseDate'}},\n",
       "  {'_id': '61e581398a5a6a599f415a2b',\n",
       "   'id': 'tt0093119',\n",
       "   'primaryImage': {'id': 'rm2979904257',\n",
       "    'width': 1365,\n",
       "    'height': 2048,\n",
       "    'url': 'https://m.media-amazon.com/images/M/MV5BOTllZjVhODgtNDllNi00ZjQ1LWJiZmMtMDdkZjgwNDgzNGQ3XkEyXkFqcGdeQXVyMTQxNzMzNDI@._V1_.jpg',\n",
       "    'caption': {'plainText': 'Grizzly II: The Predator (2020)',\n",
       "     '__typename': 'Markdown'},\n",
       "    '__typename': 'Image'},\n",
       "   'titleType': {'text': 'Movie',\n",
       "    'id': 'movie',\n",
       "    'isSeries': False,\n",
       "    'isEpisode': False,\n",
       "    '__typename': 'TitleType'},\n",
       "   'titleText': {'text': 'Grizzly II: The Predator',\n",
       "    '__typename': 'TitleText'},\n",
       "   'originalTitleText': {'text': 'Grizzly II: The Predator',\n",
       "    '__typename': 'TitleText'},\n",
       "   'releaseYear': {'year': 2020, 'endYear': None, '__typename': 'YearRange'},\n",
       "   'releaseDate': {'day': 8,\n",
       "    'month': 1,\n",
       "    'year': 2021,\n",
       "    '__typename': 'ReleaseDate'}},\n",
       "  {'_id': '61e5822078c012aa34418955',\n",
       "   'id': 'tt0166938',\n",
       "   'primaryImage': None,\n",
       "   'titleType': {'text': 'TV Series',\n",
       "    'id': 'tvSeries',\n",
       "    'isSeries': True,\n",
       "    'isEpisode': False,\n",
       "    '__typename': 'TitleType'},\n",
       "   'titleText': {'text': 'Yo-TV', '__typename': 'TitleText'},\n",
       "   'originalTitleText': {'text': 'Yo-TV', '__typename': 'TitleText'},\n",
       "   'releaseYear': {'year': 2020, 'endYear': None, '__typename': 'YearRange'},\n",
       "   'releaseDate': None},\n",
       "  {'_id': '61e5829ea66e59642341a5e1',\n",
       "   'id': 'tt0214297',\n",
       "   'primaryImage': {'id': 'rm2009934336',\n",
       "    'width': 640,\n",
       "    'height': 480,\n",
       "    'url': 'https://m.media-amazon.com/images/M/MV5BNmQyNjhmMTctMTQ3Mi00NjhhLWE1ZGEtZDBmNmE2YzNhN2NlXkEyXkFqcGdeQXVyMDM1MzIyMQ@@._V1_.jpg',\n",
       "    'caption': {'plainText': 'The Way to Shadow Garden (2020)',\n",
       "     '__typename': 'Markdown'},\n",
       "    '__typename': 'Image'},\n",
       "   'titleType': {'text': 'Short',\n",
       "    'id': 'short',\n",
       "    'isSeries': False,\n",
       "    'isEpisode': False,\n",
       "    '__typename': 'TitleType'},\n",
       "   'titleText': {'text': 'The Way to Shadow Garden',\n",
       "    '__typename': 'TitleText'},\n",
       "   'originalTitleText': {'text': 'The Way to Shadow Garden',\n",
       "    '__typename': 'TitleText'},\n",
       "   'releaseYear': {'year': 2020, 'endYear': None, '__typename': 'YearRange'},\n",
       "   'releaseDate': {'day': 15,\n",
       "    'month': 10,\n",
       "    'year': 2020,\n",
       "    '__typename': 'ReleaseDate'}},\n",
       "  {'_id': '61e58351971a4a15d641cef5',\n",
       "   'id': 'tt0280237',\n",
       "   'primaryImage': {'id': 'rm119472640',\n",
       "    'width': 500,\n",
       "    'height': 710,\n",
       "    'url': 'https://m.media-amazon.com/images/M/MV5BZTI3ZGEyYjgtOGRkYS00YzQ3LTg0ZDktYWE2NmJlZTJhOTUxXkEyXkFqcGdeQXVyNDg5MjMyMTM@._V1_.jpg',\n",
       "    'caption': {'plainText': 'Big Brother (2020)', '__typename': 'Markdown'},\n",
       "    '__typename': 'Image'},\n",
       "   'titleType': {'text': 'TV Series',\n",
       "    'id': 'tvSeries',\n",
       "    'isSeries': True,\n",
       "    'isEpisode': False,\n",
       "    '__typename': 'TitleType'},\n",
       "   'titleText': {'text': 'Big Brother', '__typename': 'TitleText'},\n",
       "   'originalTitleText': {'text': 'Big Brother', '__typename': 'TitleText'},\n",
       "   'releaseYear': {'year': 2020, 'endYear': None, '__typename': 'YearRange'},\n",
       "   'releaseDate': None},\n",
       "  {'_id': '61e58367909c2ca78141d32f',\n",
       "   'id': 'tt0289219',\n",
       "   'primaryImage': {'id': 'rm1391288064',\n",
       "    'width': 768,\n",
       "    'height': 576,\n",
       "    'url': 'https://m.media-amazon.com/images/M/MV5BZWE3Y2I5ZDgtYzU2Yi00ZGQzLWE3MjEtNjMyYmVlNjJhYzU1XkEyXkFqcGdeQXVyMTY2NTEyMTY@._V1_.jpg',\n",
       "    'caption': {'plainText': 'Herman Miller at the Brussels Worlds Fair (2020)',\n",
       "     '__typename': 'Markdown'},\n",
       "    '__typename': 'Image'},\n",
       "   'titleType': {'text': 'Short',\n",
       "    'id': 'short',\n",
       "    'isSeries': False,\n",
       "    'isEpisode': False,\n",
       "    '__typename': 'TitleType'},\n",
       "   'titleText': {'text': 'Herman Miller at the Brussels Worlds Fair',\n",
       "    '__typename': 'TitleText'},\n",
       "   'originalTitleText': {'text': 'Herman Miller at the Brussels Worlds Fair',\n",
       "    '__typename': 'TitleText'},\n",
       "   'releaseYear': {'year': 2020, 'endYear': None, '__typename': 'YearRange'},\n",
       "   'releaseDate': {'day': 29,\n",
       "    'month': 4,\n",
       "    'year': 2020,\n",
       "    '__typename': 'ReleaseDate'}},\n",
       "  {'_id': '61e5836fef99b1c54341d4d5',\n",
       "   'id': 'tt0293513',\n",
       "   'primaryImage': {'id': 'rm1825163265',\n",
       "    'width': 766,\n",
       "    'height': 1008,\n",
       "    'url': 'https://m.media-amazon.com/images/M/MV5BOTdjOGViMjUtYWE0MS00NDQzLTlmZWQtNjQyMThhMjMwMTI1XkEyXkFqcGdeQXVyNjg5ODE0MDQ@._V1_.jpg',\n",
       "    'caption': {'plainText': 'Pit Bull (2020)', '__typename': 'Markdown'},\n",
       "    '__typename': 'Image'},\n",
       "   'titleType': {'text': 'Movie',\n",
       "    'id': 'movie',\n",
       "    'isSeries': False,\n",
       "    'isEpisode': False,\n",
       "    '__typename': 'TitleType'},\n",
       "   'titleText': {'text': 'Pit Bull', '__typename': 'TitleText'},\n",
       "   'originalTitleText': {'text': 'Pit Bull', '__typename': 'TitleText'},\n",
       "   'releaseYear': {'year': 2020, 'endYear': None, '__typename': 'YearRange'},\n",
       "   'releaseDate': {'day': None,\n",
       "    'month': None,\n",
       "    'year': 2020,\n",
       "    '__typename': 'ReleaseDate'}},\n",
       "  {'_id': '61e58382d735dff3f941d9d9',\n",
       "   'id': 'tt0296388',\n",
       "   'primaryImage': {'id': 'rm1471869953',\n",
       "    'width': 1920,\n",
       "    'height': 1080,\n",
       "    'url': 'https://m.media-amazon.com/images/M/MV5BMDc1YWE1MjEtODZlMC00MGU1LTk0ZTMtMWZjNDU1ZDJiYjAxXkEyXkFqcGdeQXVyMTA1Mzk1NDMy._V1_.jpg',\n",
       "    'caption': {'plainText': 'Norge i dag (2020)', '__typename': 'Markdown'},\n",
       "    '__typename': 'Image'},\n",
       "   'titleType': {'text': 'TV Series',\n",
       "    'id': 'tvSeries',\n",
       "    'isSeries': True,\n",
       "    'isEpisode': False,\n",
       "    '__typename': 'TitleType'},\n",
       "   'titleText': {'text': 'Norge i dag', '__typename': 'TitleText'},\n",
       "   'originalTitleText': {'text': 'Norge i dag', '__typename': 'TitleText'},\n",
       "   'releaseYear': {'year': 2020, 'endYear': None, '__typename': 'YearRange'},\n",
       "   'releaseDate': None}]}"
      ]
     },
     "execution_count": 5,
     "metadata": {},
     "output_type": "execute_result"
    }
   ],
   "source": [
    "data"
   ]
  },
  {
   "cell_type": "code",
   "execution_count": 6,
   "metadata": {},
   "outputs": [
    {
     "data": {
      "text/plain": [
       "dict_keys(['page', 'next', 'entries', 'results'])"
      ]
     },
     "execution_count": 6,
     "metadata": {},
     "output_type": "execute_result"
    }
   ],
   "source": [
    "data.keys()"
   ]
  },
  {
   "cell_type": "code",
   "execution_count": 9,
   "metadata": {},
   "outputs": [
    {
     "data": {
      "text/plain": [
       "{'_id': '61e580ca909c2ca7814146a7',\n",
       " 'id': 'tt0060366',\n",
       " 'primaryImage': None,\n",
       " 'titleType': {'text': 'Short',\n",
       "  'id': 'short',\n",
       "  'isSeries': False,\n",
       "  'isEpisode': False,\n",
       "  '__typename': 'TitleType'},\n",
       " 'titleText': {'text': 'A Embalagem de Vidro', '__typename': 'TitleText'},\n",
       " 'originalTitleText': {'text': 'A Embalagem de Vidro',\n",
       "  '__typename': 'TitleText'},\n",
       " 'releaseYear': {'year': 2020, 'endYear': None, '__typename': 'YearRange'},\n",
       " 'releaseDate': {'day': 13,\n",
       "  'month': 1,\n",
       "  'year': 2020,\n",
       "  '__typename': 'ReleaseDate'}}"
      ]
     },
     "execution_count": 9,
     "metadata": {},
     "output_type": "execute_result"
    }
   ],
   "source": [
    "data['results'][0]"
   ]
  },
  {
   "cell_type": "code",
   "execution_count": 11,
   "metadata": {},
   "outputs": [
    {
     "data": {
      "text/plain": [
       "dict_keys(['_id', 'id', 'primaryImage', 'titleType', 'titleText', 'originalTitleText', 'releaseYear', 'releaseDate'])"
      ]
     },
     "execution_count": 11,
     "metadata": {},
     "output_type": "execute_result"
    }
   ],
   "source": [
    "data['results'][0].keys()"
   ]
  },
  {
   "cell_type": "code",
   "execution_count": 12,
   "metadata": {},
   "outputs": [
    {
     "name": "stdout",
     "output_type": "stream",
     "text": [
      "{'results': {'_id': '61e58287a66e59642341a0cf', 'id': 'tt0205380', 'primaryImage': {'id': 'rm1364663808', 'width': 650, 'height': 472, 'url': 'https://m.media-amazon.com/images/M/MV5BYjc3MGNhMmItMjljOS00NjY5LThlMmQtYWM1NWZiOGJlY2EyXkEyXkFqcGdeQXVyMjU4NDY1ODA@._V1_.jpg', 'caption': {'plainText': 'Pooja Bhatt and Saif Ali Khan in Sanam Teri Kasam (2009)', '__typename': 'Markdown'}, '__typename': 'Image'}, 'titleType': {'text': 'Movie', 'id': 'movie', 'isSeries': False, 'isEpisode': False, '__typename': 'TitleType'}, 'titleText': {'text': 'Sanam Teri Kasam', '__typename': 'TitleText'}, 'originalTitleText': {'text': 'Sanam Teri Kasam', '__typename': 'TitleText'}, 'releaseYear': {'year': 2009, 'endYear': None, '__typename': 'YearRange'}, 'releaseDate': {'day': 22, 'month': 5, 'year': 2009, '__typename': 'ReleaseDate'}}}\n"
     ]
    }
   ],
   "source": [
    "import requests\n",
    "\n",
    "url = \"https://moviesdatabase.p.rapidapi.com/titles/tt0205380\"\n",
    "\n",
    "headers = {\n",
    "\t\"x-rapidapi-key\": \"21e179a399msh794c9daabe72fccp165283jsn394a5b990c95\",\n",
    "\t\"x-rapidapi-host\": \"moviesdatabase.p.rapidapi.com\"\n",
    "}\n",
    "\n",
    "response = requests.get(url, headers=headers)\n",
    "\n",
    "print(response.json())\n",
    "\n",
    "# Query de la ruta titles/(id)\n"
   ]
  },
  {
   "cell_type": "code",
   "execution_count": 13,
   "metadata": {},
   "outputs": [],
   "source": [
    "data2 = response.json()"
   ]
  },
  {
   "cell_type": "code",
   "execution_count": 14,
   "metadata": {},
   "outputs": [
    {
     "data": {
      "text/plain": [
       "{'results': {'_id': '61e58287a66e59642341a0cf',\n",
       "  'id': 'tt0205380',\n",
       "  'primaryImage': {'id': 'rm1364663808',\n",
       "   'width': 650,\n",
       "   'height': 472,\n",
       "   'url': 'https://m.media-amazon.com/images/M/MV5BYjc3MGNhMmItMjljOS00NjY5LThlMmQtYWM1NWZiOGJlY2EyXkEyXkFqcGdeQXVyMjU4NDY1ODA@._V1_.jpg',\n",
       "   'caption': {'plainText': 'Pooja Bhatt and Saif Ali Khan in Sanam Teri Kasam (2009)',\n",
       "    '__typename': 'Markdown'},\n",
       "   '__typename': 'Image'},\n",
       "  'titleType': {'text': 'Movie',\n",
       "   'id': 'movie',\n",
       "   'isSeries': False,\n",
       "   'isEpisode': False,\n",
       "   '__typename': 'TitleType'},\n",
       "  'titleText': {'text': 'Sanam Teri Kasam', '__typename': 'TitleText'},\n",
       "  'originalTitleText': {'text': 'Sanam Teri Kasam', '__typename': 'TitleText'},\n",
       "  'releaseYear': {'year': 2009, 'endYear': None, '__typename': 'YearRange'},\n",
       "  'releaseDate': {'day': 22,\n",
       "   'month': 5,\n",
       "   'year': 2009,\n",
       "   '__typename': 'ReleaseDate'}}}"
      ]
     },
     "execution_count": 14,
     "metadata": {},
     "output_type": "execute_result"
    }
   ],
   "source": [
    "data2"
   ]
  }
 ],
 "metadata": {
  "kernelspec": {
   "display_name": "Python 3",
   "language": "python",
   "name": "python3"
  },
  "language_info": {
   "codemirror_mode": {
    "name": "ipython",
    "version": 3
   },
   "file_extension": ".py",
   "mimetype": "text/x-python",
   "name": "python",
   "nbconvert_exporter": "python",
   "pygments_lexer": "ipython3",
   "version": "3.12.3"
  }
 },
 "nbformat": 4,
 "nbformat_minor": 2
}
