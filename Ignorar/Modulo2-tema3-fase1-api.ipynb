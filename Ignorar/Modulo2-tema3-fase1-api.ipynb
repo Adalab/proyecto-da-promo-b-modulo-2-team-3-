{
 "cells": [
  {
   "cell_type": "code",
   "execution_count": 2,
   "metadata": {},
   "outputs": [
    {
     "name": "stdout",
     "output_type": "stream",
     "text": [
      "Requirement already satisfied: tqdm in /opt/anaconda3/lib/python3.11/site-packages (4.65.0)\n"
     ]
    }
   ],
   "source": [
    "# Instalar Tequerodemasiado - nos permite ver el estado de extracción de los datos de la API\n",
    "! pip install tqdm "
   ]
  },
  {
   "cell_type": "code",
   "execution_count": 3,
   "metadata": {},
   "outputs": [],
   "source": [
    "# Importamos las librerias\n",
    "import requests\n",
    "import pandas as pd\n",
    "from time import sleep\n",
    "from tqdm import tqdm"
   ]
  },
  {
   "cell_type": "code",
   "execution_count": 5,
   "metadata": {},
   "outputs": [],
   "source": [
    "url = \"https://dev.adalab.es/api/cinema/movies?year=2010&genre=Drama\"\n"
   ]
  },
  {
   "cell_type": "code",
   "execution_count": 18,
   "metadata": {},
   "outputs": [],
   "source": [
    "# Comprobaciones\n",
    "peticion = requests.get(url)\n"
   ]
  },
  {
   "cell_type": "code",
   "execution_count": 17,
   "metadata": {},
   "outputs": [
    {
     "data": {
      "text/plain": [
       "503"
      ]
     },
     "execution_count": 17,
     "metadata": {},
     "output_type": "execute_result"
    }
   ],
   "source": [
    "peticion.status_code"
   ]
  },
  {
   "cell_type": "code",
   "execution_count": 22,
   "metadata": {},
   "outputs": [],
   "source": [
    "data = peticion.json()"
   ]
  },
  {
   "cell_type": "code",
   "execution_count": 24,
   "metadata": {},
   "outputs": [
    {
     "ename": "AttributeError",
     "evalue": "'builtin_function_or_method' object has no attribute 'data'",
     "output_type": "error",
     "traceback": [
      "\u001b[0;31m---------------------------------------------------------------------------\u001b[0m",
      "\u001b[0;31mAttributeError\u001b[0m                            Traceback (most recent call last)",
      "Cell \u001b[0;32mIn[24], line 1\u001b[0m\n\u001b[0;32m----> 1\u001b[0m \u001b[38;5;28mlen\u001b[39m\u001b[38;5;241m.\u001b[39mdata\n",
      "\u001b[0;31mAttributeError\u001b[0m: 'builtin_function_or_method' object has no attribute 'data'"
     ]
    }
   ],
   "source": [
    "lens.data"
   ]
  },
  {
   "cell_type": "code",
   "execution_count": 25,
   "metadata": {},
   "outputs": [
    {
     "data": {
      "text/plain": [
       "{'id': 59732,\n",
       " 'title': 'Death of a Nation',\n",
       " 'type': 'Short',\n",
       " 'year': '2010',\n",
       " 'genre': 'Drama',\n",
       " 'idOwner': 'tt0370451',\n",
       " 'image': 'https://m.media-amazon.com/images/M/MV5BMTgzMTAwNDkzOF5BMl5BanBnXkFtZTcwODc3ODUzMQ@@._V1_.jpg'}"
      ]
     },
     "execution_count": 25,
     "metadata": {},
     "output_type": "execute_result"
    }
   ],
   "source": [
    "# extra\n",
    "data[\"results\"][8]"
   ]
  },
  {
   "cell_type": "code",
   "execution_count": 31,
   "metadata": {},
   "outputs": [
    {
     "name": "stderr",
     "output_type": "stream",
     "text": [
      "  0%|          | 0/1 [00:00<?, ?it/s]"
     ]
    },
    {
     "name": "stdout",
     "output_type": "stream",
     "text": [
      "Horror\n",
      "2010\n"
     ]
    },
    {
     "name": "stderr",
     "output_type": "stream",
     "text": [
      "100%|██████████| 1/1 [00:10<00:00, 10.41s/it]"
     ]
    },
    {
     "name": "stdout",
     "output_type": "stream",
     "text": [
      "[('Flexing with Monty', 2010), ('The Devil Inside', 2010), ('Les 7 jours du talion', 2010), ('The Crazies', 2010), ('Satan Hates You', 2010), ('Piranha 3D', 2010), ('Alan Wake', 2010), ('El horror de la dama del lago', 2010), ('Perfect Life', 2010), ('The Invited', 2010), ('Flexing with Monty', 2010), ('The Devil Inside', 2010), ('Les 7 jours du talion', 2010), ('The Crazies', 2010), ('Satan Hates You', 2010), ('Piranha 3D', 2010), ('Alan Wake', 2010), ('El horror de la dama del lago', 2010), ('Perfect Life', 2010), ('The Invited', 2010), ('Flexing with Monty', 2010), ('The Devil Inside', 2010), ('Les 7 jours du talion', 2010), ('The Crazies', 2010), ('Satan Hates You', 2010), ('Piranha 3D', 2010), ('Alan Wake', 2010), ('El horror de la dama del lago', 2010), ('Perfect Life', 2010), ('The Invited', 2010), ('Flexing with Monty', 2010), ('The Devil Inside', 2010), ('Les 7 jours du talion', 2010), ('The Crazies', 2010), ('Satan Hates You', 2010), ('Piranha 3D', 2010), ('Alan Wake', 2010), ('El horror de la dama del lago', 2010), ('Perfect Life', 2010), ('The Invited', 2010)]\n"
     ]
    },
    {
     "name": "stderr",
     "output_type": "stream",
     "text": [
      "\n"
     ]
    }
   ],
   "source": [
    "url = \"https://dev.adalab.es/api/cinema/movies?year=2010&genre=Drama\"\n",
    "\n",
    "genreList = [\"Horror\"]\n",
    "movieList = []\n",
    "\n",
    "for genre in tqdm(genreList):\n",
    "    print(genre)\n",
    "    for year in range(2010,2011):\n",
    "        print(year)\n",
    "        sleep(5)\n",
    "        url = f\"https://dev.adalab.es/api/cinema/movies?year={year}&genre={genre}\"\n",
    "        response = requests.get(url)\n",
    "        ## Verificar que el status code es 200\n",
    "        movies = response.json()[\"results\"]\n",
    "        \n",
    "        for movie in movies:\n",
    "            ## Comprobar si es una \"Movie\" o es un \"Sort\", verifico en el campo type\n",
    "            resultado = []\n",
    "            resultado.append(movie[\"title\"])\n",
    "            resultado.append(year)\n",
    "            movieList.append(tuple(resultado));\n",
    "print(movieList);\n",
    "\n"
   ]
  },
  {
   "cell_type": "code",
   "execution_count": 29,
   "metadata": {},
   "outputs": [],
   "source": [
    "df = pd.DataFrame(movieList, columns=[\"title\",\"year\"])"
   ]
  },
  {
   "cell_type": "code",
   "execution_count": null,
   "metadata": {},
   "outputs": [],
   "source": []
  }
 ],
 "metadata": {
  "kernelspec": {
   "display_name": "base",
   "language": "python",
   "name": "python3"
  },
  "language_info": {
   "codemirror_mode": {
    "name": "ipython",
    "version": 3
   },
   "file_extension": ".py",
   "mimetype": "text/x-python",
   "name": "python",
   "nbconvert_exporter": "python",
   "pygments_lexer": "ipython3",
   "version": "3.11.7"
  }
 },
 "nbformat": 4,
 "nbformat_minor": 2
}
