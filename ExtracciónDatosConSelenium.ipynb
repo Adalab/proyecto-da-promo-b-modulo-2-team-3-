{
 "cells": [
  {
   "cell_type": "code",
   "execution_count": 2,
   "metadata": {},
   "outputs": [
    {
     "name": "stdout",
     "output_type": "stream",
     "text": [
      "['Sanam Teri Kasam', 'Chinango', 'Blood and Bone', 'Whiteout', 'Sterling: The Secret of the Lost Medallion', 'Astro Boy', 'Watchmen', 'Harry Potter en de halfbloed prins', 'Royal Kill', 'Tekken', 'Venus & Vegas', 'The A-Team', 'Segurança Nacional', 'Scott Pilgrim vs. the World', 'Taken by Force', 'Guns, Drugs and Dirty Money', 'Komaram Puli', 'Spy', 'Cowboys & Aliens', 'Real Steel', 'Captain America: The First Avenger', 'Platinum Illusions', 'The Mechanic', 'Tower Heist', 'Season of the Witch', 'Foodfight!', 'John Carter', 'Clutch', 'Red Tails', 'Jack Reacher', 'Gallowwalkers', 'The Avengers', 'The Sweeney', 'Evangelion Shin Gekijôban: Kyu', 'The Amazing Spider-Man 3D', 'Alan Partridge: Alpha Papa', 'Without Warrant', 'Prisoners of the Sun', 'Man of Steel', 'R.I.P.D.', 'World War Z', 'The Power of Few', 'Epic', 'Snitch', 'Instruments of Darkness', 'A Walk Among the Tombstones', 'Action Jackson', 'The Equalizer', 'Sin City: A Dame to Kill For', 'Dil Ka Sauda', 'Jersey Justice', 'Dracula Untold', 'Godzilla', 'Electric Slide', 'Jurassic World', 'Ant-Man', 'Oscar Buzz', 'Wazir', 'Aman Ke Farishtey', 'Cell', 'Warcraft', 'Maximum Ride', 'The Legend of Tarzan', 'Wonder Woman', 'CHIPS', 'Justice League', 'Green Brothers', 'Red Wrath', 'Nagarsevak - Ek Nayak', 'Spider-Man Fan Film - Film Form Studios', 'To Chase a Million', 'Crossing: 2036', 'Tötet nicht mehr', 'Alita: Battle Angel', 'Danger Close: The Battle of Long Tan', 'Shazam!', 'Skillet', 'Duel of Legends', 'Road to Red', 'Fantasy Island', 'Like.Share.Repost.', 'Hunted', 'Mortal Kombat', 'Without Remorse', 'Z', 'Jungle Cruise', 'Army of the Dead', 'Chinese Speaking Vampires', 'Preman', 'Bad Rap Rising', 'Badlander', 'Vaa Deal', 'Satria Dewa: Gatotkaca', 'Im Westen nichts Neues', 'Bullet Proof', 'Stalking Elvis', 'The Flash', 'Shazam! Fury of the Gods', 'Multiverso', 'Detour 95', 'The Legend of Johnny Jones', 'Slasher House 3', 'Clank and the Golden Scar', 'I Miss Sonia Henie', 'Rózsaszín sajt', 'El reino de los cielos', 'Unter Strom', 'Railed', 'Chinango', 'Los muertos van deprisa', 'Two-Minute Heist', 'Astro Boy', 'This Wretched Life', 'Blind Sided', \"Anderson's Cross\", 'Rapunzel', 'Venus & Vegas', 'Dinner for Schmucks', 'Toy Story 3', 'Diary of a Bad Lad', 'Scott Pilgrim vs. the World', 'The Rum Diary', 'Gnomeo & Juliet', 'Seven Fallen Objects', 'Satin', 'Puss in Boots', 'Generation P', 'Salvando al Soldado Pérez', 'Silent Alarm', 'Foodfight!', \"Life's a Beach\", 'The Three Stooges', 'Gambit', 'Acorralados', 'Os Penetras', 'Persona Au Gratin', 'Sushi in Suhl', 'A Thousand Words', 'Return to Babylon', 'The Secret Life of Walter Mitty', 'Blunt Movie', 'Alan Partridge: Alpha Papa', 'The Croods', 'Aftermath', 'Syrup', 'Santorini Blue', 'The Incredible Burt Wonderstone', 'R.I.P.D.', 'Frivolinas', 'The Fresh Lobster', 'Rice Girl', 'Before We Go', 'A Long Way Down', 'Kid Cannabis', 'The Boxtrolls', 'Rupan sansei', 'Mr. Peabody & Sherman', 'Soapte de amor', 'Transeúntes', 'Prozac tango', 'Ant-Man', 'The Wedding Ringer', 'The Sexlife of a Chair', 'Cowboys: Outrage!', \"Cowboys: That's Nothin'\", 'Cowboys: The Conformist', 'The Ten Commandments Number 5: Thou Shalt Not Kill', 'Nonkina tosan Yamazaki kaido', 'Career Day', 'Hail, Caesar!', 'Have You Seen Me?', 'Manhattan Minutiae', 'Quan jia fu', 'La telenovela errante', 'Joe Finds Grace', 'Bunyan and Babe', 'Suburbicon', 'CHIPS', 'A Thin Life', 'Nappily Ever After', 'Shazam!', 'The Dirt', 'Surviving in L.A.', 'The Witches', 'Jak najdalej stad', 'Paranoia Tapes: URBAN LEGEND', 'The International Style', 'Oak, Ivy, and Other Dead Elms', \"'77\", 'Jungle Cruise', 'F-Word', 'The 10th Man', 'If I Only had a Name', 'La metafísica del asesino', 'Milli Vanilli', 'Laal Singh Chaddha', 'MobSense', 'Adventures in Game Chasing', 'The Christmas Spirit', 'Sneakerella', 'Gap Weekend', 'Shazam! Fury of the Gods', 'Rapture Camp', \"Creepers 'R Us\", 'Bad Boy', 'Miraculous: Filmen om Ladybug & Cat Noir', 'Pizzodyssey', 'IF', 'Apaföld', 'Rózsaszín sajt', 'Sanam Teri Kasam', 'Twice as Dead', 'Railed', 'Coraline', 'Mitsein', 'Blood and Bone', 'Inglourious Basterds', 'The Box', 'Pál Adrienn', 'Oda az igazság', 'A zöld sárkány gyermekei', 'The Final Journey', 'In My Sleep', 'This Wretched Life', 'Blind Sided', 'Death of a Nation', 'Az ember tragédiája', 'Los pájaros se van con la muerte', 'Lives No Longer Ours', 'The Wicker Tree', 'Spy', 'The Rum Diary', 'Bubbles', 'On the Road', 'Acorralados', 'Caleuche: El llamado del Mar', \"L'apocalisse delle scimmie\", 'Lincoln', 'Life of Pi', 'Being Flynn', 'Return to Babylon', 'The Secret Life of Walter Mitty', 'In Secret', 'In absentia', '42', 'Without Warrant', 'uwantme2killhim?', 'Syrup', 'Santorini Blue', 'Dallas Buyers Club', \"Le sacre d'automne\", 'Instruments of Darkness', 'A Walk Among the Tombstones', 'The Ninth Cloud', 'The Giver', 'Before We Go', 'A Long Way Down', 'Ex Machina', 'Dil Ka Sauda', 'Shulie', 'Snowblind', 'Chatô: O Rei do Brasil', 'Transeúntes', 'The Stanford Prison Experiment', 'High-Rise', 'The Man Who Knew Infinity', 'Miles Ahead', 'The Danish Girl', 'Wazir', 'American Pastoral', 'The History of Love', 'Tak erkir, tsurt dzmer', 'Hail, Caesar!', 'Silence', 'Nina', 'Retreat!', 'Quan jia fu', 'La telenovela errante', 'Joe Finds Grace', 'Reading Between the Lines', 'The Only Living Boy in New York', 'Tulip Fever', 'Suburbicon', 'Rings', 'Caravaggio and My Mother the Pope', 'Krystal', 'The Other Side of the Wind', 'Reverse Heaven', 'To Chase a Million', 'Aamaar Bhuvan', 'Fahrenheit 451', 'Nappily Ever After', 'A Million Little Pieces', 'La fête espagnole', 'Sha Ou', 'Mariette in Ecstasy', 'Wo men fu fu zhi jian', 'Motherless Brooklyn', 'Danger Close: The Battle of Long Tan', 'The Last Full Measure', 'El Tango del Viudo y Su Espejo Deformante', 'Love & Orgasms', 'Surviving in L.A.', 'Duel of Legends', 'Lost Girls and Love Hotels', 'Mugen ryûkyû tsuru Henrî', \"'77\", 'Zamaanat: And Justice for All', 'Z', 'Cosmic Radio', 'A Journal for Jordan', 'Kelti', 'Preman', 'Milli Vanilli', 'Kill Switch', 'Siempre Yo', 'Laal Singh Chaddha', 'Darkling', 'Charlie Hustle', 'Astray', 'Bambi', \"Mom's Coming\", 'Love Song and Power', 'Sanam Teri Kasam', 'House of Boys', 'Youth in Revolt', 'Utolsó jelentés Annáról', 'The Perfect Sleep', 'AmerAsian', 'Why George?', 'Kisse Pyaar Karoon?', 'Yesterday Was a Lie', \"Anderson's Cross\", 'Rapunzel', 'Cargo, les hommes perdus.', 'Milenge Milenge', 'Scott Pilgrim vs. the World', 'Piranha 3D', 'Barry Munday', 'Bandeiji', 'Tranced', 'Lives No Longer Ours', 'Gnomeo & Juliet', 'Satin', 'A Bird of the Air', 'Hall Pass', 'Something Borrowed', \"What's Your Number?\", 'Till You Get to Baraboo', 'Red Dog', 'On the Road', 'Bad Blood', 'Elliot Loves', 'Belle du Seigneur', 'Jack & Diane', 'Letting Go', 'Jewtopia', 'Strange Frame: Love & Sax', 'The Secret Life of Walter Mitty', 'In absentia', 'Blunt Movie', 'Syrup', 'Approaching Midnight', 'The Fallen Word', 'Legend of the Red Reaper', 'Rice Girl', 'The Giver', 'Before We Go', 'Suite Française', 'Life Mein Twist Hai', 'Zvyozdy svetyat vsem', 'La scelta', 'Hum tum', 'Miles Ahead', 'The Danish Girl', 'Jackson Arms', 'Chooriyan', 'The History of Love', 'Manhattan Minutiae', 'The Legend of Tarzan', 'Tulip Fever', 'Rings', 'Nappily Ever After', 'Dirt Music', 'Kissing Carmen', 'Rencontre', 'Surviving in L.A.', 'Drop', 'Passion simple', 'Zamaanat: And Justice for All', 'Il materiale emotivo', 'Indiana Jones and the Sanctuary of the Black Order', 'Bole Chudiyan', 'Nomad', \"I Won't Be Home for Christmas\", 'The Diary: An Untold Story', 'Poor Lucky Rich Boy', 'Cinderella', 'R[evol]ution of Love', 'Laal Singh Chaddha', 'Gap Weekend', 'Wyjdź za mnie', 'Stalking Elvis', 'Expired', 'Unplugging', 'Stars at Noon', 'Ek Love Ya', 'Bambi', 'Bad Boy', 'Miraculous: Filmen om Ladybug & Cat Noir', 'Finding Tess', 'Amor Y Aceptacion. Volumen I', 'Divine Flames', 'Divine Flames', 'The Out-Laws', 'Untouchable', 'Broken Glass', 'Vo Ladki', 'Moonlight Blade', 'T.M.A.', 'Coraline', 'The Box', 'Whiteout', 'Possession', 'Malice in Wonderland', 'The Lovely Bones', 'Cargo', '1', 'In My Sleep', 'Tekken', 'Disconnect', 'The A-Team', 'The Devil Inside', 'Les 7 jours du talion', 'The Crazies', 'Federal', 'Komaram Puli', 'Spy', 'Cowboys & Aliens', 'Moving Target', 'Silent Alarm', 'The Mechanic', 'Double Tap', 'Kill', 'War of the Dead', 'Escalade', 'Dark Blood', 'Acorralados', 'The Possession', 'Bad Blood', 'The Yellow Wallpaper', 'Jack Reacher', 'Gallowwalkers', 'The Grind', 'Exposed', 'Freaky Deaky', 'In Secret', 'In absentia', 'The Devil You Know', 'Without Warrant', 'uwantme2killhim?', 'Aftermath', \"Devil's Knot\", 'The Power of Few', 'Snitch', 'A Walk Among the Tombstones', 'Action Jackson', 'The Giver', 'The Equalizer', 'Sin City: A Dame to Kill For', 'House at the End of the Drive', 'Ex Machina', 'Jersey Justice', 'Godzilla', 'Electric Slide', 'The Stanford Prison Experiment', 'Wazir', 'Cell', 'Maximum Ride', 'Travis', 'Gangster Kittens', 'The Story', 'Below the Storm', 'The White Cat', 'Bigfoot', 'Suburbicon', 'The Dot Man', 'Fahrenheit 451', 'Dukun', 'Back Roads', 'Nekro', 'Form 1', 'When I Became a Butterfly', \"The Mind's Eye\", 'Parallel Tracks', 'Alita: Battle Angel', 'Pet Sematary', 'Disquiet', 'Witness to Murder', 'Voiceless', 'Grizzly II: The Predator', 'Road to Red', 'Fantasy Island', 'Farvel Søde', 'Paranoia Tapes: URBAN LEGEND', 'The Rental', 'Sacrifice', 'They Never Lie', 'Hunted', 'Mortal Kombat', 'Without Remorse', 'Army of the Dead', 'Willie Lynch', 'The Little Things', 'Fear of Rain', \"12 O'Clock\", 'Badlander', 'Block A-10', 'Nefarious', 'Hellraiser', 'The Christmas Spirit', 'Shut In', 'Untitled Drama/Horror Project', 'Fate of the Night', 'Astray', \"Mom's Coming\", 'Killing Rainbow', 'Detour 95', 'The Legend of Johnny Jones']\n",
      "['tt0205380', 'tt0312958', 'tt0346631', 'tt0365929', 'tt0373340', 'tt0375568', 'tt0409459', 'tt0417741', 'tt0421237', 'tt0411951', 'tt0423474', 'tt0429493', 'tt0439801', 'tt0446029', 'tt0465637', 'tt0464032', 'tt0464162', 'tt0372538', 'tt0409847', 'tt0433035', 'tt0458339', 'tt0469158', 'tt0472399', 'tt0471042', 'tt0479997', 'tt0249516', 'tt0401729', 'tt0475239', 'tt0485985', 'tt0790724', 'tt0829176', 'tt0848228', 'tt0857190', 'tt0860907', 'tt0948470', 'tt0469021', 'tt0479700', 'tt0496375', 'tt0770828', 'tt0790736', 'tt0816711', 'tt0817545', 'tt0848537', 'tt0882977', 'tt0338258', 'tt0365907', 'tt0403935', 'tt0455944', 'tt0458481', 'tt0485535', 'tt0772175', 'tt0829150', 'tt0831387', 'tt0835775', 'tt0369610', 'tt0478970', 'tt10004934', 'tt0315642', 'tt0364201', 'tt0775440', 'tt0803096', 'tt0825283', 'tt0918940', 'tt0451279', 'tt0493405', 'tt0974015', 'tt10010820', 'tt10015186', 'tt10028030', 'tt10042774', 'tt0276568', 'tt10003376', 'tt0011801', 'tt0437086', 'tt0441881', 'tt0448115', 'tt10004182', 'tt0849437', 'tt0926132', 'tt0983946', 'tt10011184', 'tt10011228', 'tt0293429', 'tt0499097', 'tt0818543', 'tt0870154', 'tt0993840', 'tt10005622', 'tt10011002', 'tt10036186', 'tt10044610', 'tt10050150', 'tt10090058', 'tt1016150', 'tt10198564', 'tt10257354', 'tt0439572', 'tt10151854', 'tt10225380', 'tt10844184', 'tt10928904', 'tt11078340', 'tt11374514', 'tt0067230', 'tt0153140', 'tt0288190', 'tt0304876', 'tt0311698', 'tt0312958', 'tt0353765', 'tt0365873', 'tt0375568', 'tt0331312', 'tt0337882', 'tt0393049', 'tt0398286', 'tt0423474', 'tt0427152', 'tt0435761', 'tt0449005', 'tt0446029', 'tt0376136', 'tt0377981', 'tt0407194', 'tt0433397', 'tt0448694', 'tt0459748', 'tt0461336', 'tt0462536', 'tt0249516', 'tt0285252', 'tt0383010', 'tt0404978', 'tt0426566', 'tt0452664', 'tt0475360', 'tt0485521', 'tt0763831', 'tt0255820', 'tt0359950', 'tt0452183', 'tt0469021', 'tt0481499', 'tt0490075', 'tt0762138', 'tt0780625', 'tt0790628', 'tt0790736', 'tt0016906', 'tt0168809', 'tt0329539', 'tt0443465', 'tt0458413', 'tt0780548', 'tt0787474', 'tt0862748', 'tt0864835', 'tt0191476', 'tt0346045', 'tt0420097', 'tt0478970', 'tt0884732', 'tt0357159', 'tt0359111', 'tt0359113', 'tt0359114', 'tt0373361', 'tt0422842', 'tt0461165', 'tt0475290', 'tt0765453', 'tt0821486', 'tt0087963', 'tt0100275', 'tt0137204', 'tt0331314', 'tt0491175', 'tt0493405', 'tt0111414', 'tt0365545', 'tt0448115', 'tt0800325', 'tt0446792', 'tt0805647', 'tt10004368', 'tt10005078', 'tt0195838', 'tt0195957', 'tt0326716', 'tt0870154', 'tt10010852', 'tt10010874', 'tt10020060', 'tt10024902', 'tt0965381', 'tt10028196', 'tt10029484', 'tt10035194', 'tt10047464', 'tt10160886', 'tt10193142', 'tt10151854', 'tt10178004', 'tt10305228', 'tt10351180', 'tt10364034', 'tt10408218', 'tt11152168', 'tt0143558', 'tt0153140', 'tt0205380', 'tt0254832', 'tt0311698', 'tt0327597', 'tt0344074', 'tt0346631', 'tt0361748', 'tt0362478', 'tt0146592', 'tt0154039', 'tt0162942', 'tt0230212', 'tt0326965', 'tt0331312', 'tt0337882', 'tt0370451', 'tt0176694', 'tt0247643', 'tt0311448', 'tt0323808', 'tt0372538', 'tt0376136', 'tt0406282', 'tt0337692', 'tt0426566', 'tt0433533', 'tt0433787', 'tt0443272', 'tt0454876', 'tt0455323', 'tt0255820', 'tt0359950', 'tt0409379', 'tt0431830', 'tt0453562', 'tt0479700', 'tt0485061', 'tt0762138', 'tt0780625', 'tt0790636', 'tt0165933', 'tt0338258', 'tt0365907', 'tt0424859', 'tt0435651', 'tt0443465', 'tt0458413', 'tt0470752', 'tt0485535', 'tt0177220', 'tt0297400', 'tt0337926', 'tt0346045', 'tt0420293', 'tt0462335', 'tt0787524', 'tt0790770', 'tt0810819', 'tt0315642', 'tt0376479', 'tt0443533', 'tt0470936', 'tt0475290', 'tt0490215', 'tt0493076', 'tt0838194', 'tt0087963', 'tt0100275', 'tt0137204', 'tt0269768', 'tt0460890', 'tt0491203', 'tt0491175', 'tt0498381', 'tt0825334', 'tt0835802', 'tt0069049', 'tt0192528', 'tt0276568', 'tt0328810', 'tt0360556', 'tt0365545', 'tt0427543', 'tt0011216', 'tt0083060', 'tt0116991', 'tt0339917', 'tt0385887', 'tt0441881', 'tt0783640', 'tt0062336', 'tt0383477', 'tt0446792', 'tt0849437', 'tt0920462', 'tt0228802', 'tt0326716', 'tt0346172', 'tt0818543', 'tt0840306', 'tt0995854', 'tt10003618', 'tt10011002', 'tt0965381', 'tt10001728', 'tt10003926', 'tt10028196', 'tt10047904', 'tt10049720', 'tt10242552', 'tt10298848', 'tt10579986', 'tt10597228', 'tt0205380', 'tt0405022', 'tt0403702', 'tt0407852', 'tt0435716', 'tt0437065', 'tt0437550', 'tt0438894', 'tt0448182', 'tt0393049', 'tt0398286', 'tt0437462', 'tt0443331', 'tt0446029', 'tt0464154', 'tt0482461', 'tt0482459', 'tt0499608', 'tt0311448', 'tt0377981', 'tt0433397', 'tt0448022', 'tt0480687', 'tt0491152', 'tt0770703', 'tt0770819', 'tt0803061', 'tt0337692', 'tt0495024', 'tt0790653', 'tt0810772', 'tt0850677', 'tt0865557', 'tt0878814', 'tt0969345', 'tt0359950', 'tt0431830', 'tt0452183', 'tt0762138', 'tt0837559', 'tt0843839', 'tt0996958', 'tt0329539', 'tt0435651', 'tt0443465', 'tt0900387', 'tt10006510', 'tt10035404', 'tt10036828', 'tt10039022', 'tt0790770', 'tt0810819', 'tt0850678', 'tt0977643', 'tt0443533', 'tt0821486', 'tt0918940', 'tt0491203', 'tt0498381', 'tt0365545', 'tt0810836', 'tt10001012', 'tt10003916', 'tt0446792', 'tt10023074', 'tt10023172', 'tt0346172', 'tt10072662', 'tt10075650', 'tt10083868', 'tt10084832', 'tt10095332', 'tt10115874', 'tt10149976', 'tt10155932', 'tt10160440', 'tt10028196', 'tt10193142', 'tt10223460', 'tt10257354', 'tt10295314', 'tt10314040', 'tt10354106', 'tt10415494', 'tt10298848', 'tt10351180', 'tt10364034', 'tt10461964', 'tt10686530', 'tt11218958', 'tt11226102', 'tt11274492', 'tt12794380', 'tt13036100', 'tt13576680', 'tt0121569', 'tt0289146', 'tt0327597', 'tt0362478', 'tt0365929', 'tt0368563', 'tt0374853', 'tt0380510', 'tt0381940', 'tt0408060', 'tt0326965', 'tt0411951', 'tt0419692', 'tt0429493', 'tt0436230', 'tt0445054', 'tt0455407', 'tt0463311', 'tt0464162', 'tt0372538', 'tt0409847', 'tt0439724', 'tt0462536', 'tt0472399', 'tt0490847', 'tt0772179', 'tt0780645', 'tt0781441', 'tt0293069', 'tt0426566', 'tt0431021', 'tt0495024', 'tt0790788', 'tt0790724', 'tt0829176', 'tt0906013', 'tt0907852', 'tt0938305', 'tt0409379', 'tt0431830', 'tt0463960', 'tt0479700', 'tt0485061', 'tt0490075', 'tt0804463', 'tt0817545', 'tt0882977', 'tt0365907', 'tt0403935', 'tt0435651', 'tt0455944', 'tt0458481', 'tt0464054', 'tt0470752', 'tt0772175', 'tt0831387', 'tt0835775', 'tt0420293', 'tt0315642', 'tt0775440', 'tt0825283', 'tt0848554', 'tt0918520', 'tt10002588', 'tt10009472', 'tt10015728', 'tt0112502', 'tt0491175', 'tt0874268', 'tt0360556', 'tt0862930', 'tt0972544', 'tt10005004', 'tt10002400', 'tt10004396', 'tt10006452', 'tt10005652', 'tt0437086', 'tt0837563', 'tt10004258', 'tt10005506', 'tt10002568', 'tt0093119', 'tt0926132', 'tt0983946', 'tt10005988', 'tt10005078', 'tt10003008', 'tt10004108', 'tt10008112', 'tt10011228', 'tt0293429', 'tt0499097', 'tt0993840', 'tt10016454', 'tt10016180', 'tt10037014', 'tt10040978', 'tt10044610', 'tt10048726', 'tt0451272', 'tt0887261', 'tt10047464', 'tt10131024', 'tt10140356', 'tt10141678', 'tt10242552', 'tt10579986', 'tt10707852', 'tt10844184', 'tt10928904']\n"
     ]
    }
   ],
   "source": [
    "# Leemos el fichero con las pelis y generamos dos listas. Una de títulos y otra con los owner_id\n",
    "\n",
    "# Importamos pandas para poder leer el csv y poder manejar el dataframe\n",
    "\n",
    "import pandas as pd\n",
    "\n",
    "# Leer el archivo CSV y convertirlo en un DataFrame\n",
    "df = pd.read_csv('films_wo_duplicates.csv')\n",
    "\n",
    "# Convertimos las columnas 'title' y 'owner_id' en listas\n",
    "title_list = df['title'].tolist()\n",
    "owner_id_list = df['owner_id'].tolist()\n",
    "\n",
    "# Mostrar la lista para verificar que se ha creado correctamente\n",
    "print(title_list)\n",
    "print(owner_id_list)\n"
   ]
  },
  {
   "cell_type": "code",
   "execution_count": 3,
   "metadata": {},
   "outputs": [
    {
     "name": "stdout",
     "output_type": "stream",
     "text": [
      "529\n",
      "529\n"
     ]
    }
   ],
   "source": [
    "print(len(title_list))\n",
    "print(len(owner_id_list))"
   ]
  },
  {
   "cell_type": "code",
   "execution_count": 4,
   "metadata": {},
   "outputs": [],
   "source": [
    "# Cargamos todas las librerías necesarias para web scrapping con Selenium\n",
    "# Importar librerías para tratamiento de datos\n",
    "# -----------------------------------------------------------------------\n",
    "\n",
    "# Importar librerías para web scraping y manipulación de datos\n",
    "# -----------------------------------------------------------------------\n",
    "from bs4 import BeautifulSoup\n",
    "import requests\n",
    "\n",
    "# Importar librerías para automatización de navegadores web con Selenium\n",
    "# -----------------------------------------------------------------------\n",
    "from selenium import webdriver  # Selenium es una herramienta para automatizar la interacción con navegadores web.\n",
    "from webdriver_manager.chrome import ChromeDriverManager  # ChromeDriverManager gestiona la instalación del controlador de Chrome.\n",
    "from selenium.webdriver.common.keys import Keys  # Keys es útil para simular eventos de teclado en Selenium.\n",
    "from selenium.webdriver.support.ui import Select  # Select se utiliza para interactuar con elementos <select> en páginas web.\n",
    "\n",
    "# Importar librerías para pausar la ejecución\n",
    "# -----------------------------------------------------------------------\n",
    "from time import sleep  # Sleep se utiliza para pausar la ejecución del programa por un número de segundos.\n",
    "\n",
    "# Configuraciones\n",
    "# -----------------------------------------------------------------------\n",
    "pd.set_option('display.max_columns', None)  # Establece una opción de Pandas para mostrar todas las columnas de un DataFrame."
   ]
  },
  {
   "cell_type": "code",
   "execution_count": 5,
   "metadata": {},
   "outputs": [],
   "source": [
    "import tqdm"
   ]
  },
  {
   "cell_type": "code",
   "execution_count": 6,
   "metadata": {},
   "outputs": [],
   "source": [
    "# no todas las películas están en rottentomatoes\n",
    "# url para web scrapping de IMBd. Tendremos que sustituir el owner_id para que busque todas las películas\n",
    "# https://www.imdb.com/title/tt10928904/\n",
    "\n",
    "# url para web scrapping de Rotten Tomatoes. Tendremos que sustituir el título de cada película para que busque la info de \n",
    "# todas las películas\n",
    "# https://www.rottentomatoes.com/m/the_legend_of_hillbilly_john\n"
   ]
  },
  {
   "cell_type": "code",
   "execution_count": 7,
   "metadata": {},
   "outputs": [],
   "source": [
    "# Probamos las url de las páginas web\n",
    "\n",
    "# Inicializamos el navegador Chrome\n",
    "driver = webdriver.Chrome()\n",
    "\n",
    "# Navegamos a la página web \"https://www.imdb.com/title/tt10928904/\"\n",
    "driver.get(\"https://www.imdb.com/title/tt10928904/\")\n"
   ]
  },
  {
   "cell_type": "code",
   "execution_count": 8,
   "metadata": {},
   "outputs": [],
   "source": [
    "# Inicializa el navegador Chrome\n",
    "driver = webdriver.Chrome()\n",
    "\n",
    "# Navega a la página web \"http://www.adalab.es\"\n",
    "driver.get(\"http://www.adalab.es\")\n",
    "\n",
    "# Acepta las cookies haciendo clic en el elemento con el selector CSS \"#wt-cli-accept-all-btn\"\n",
    "driver.find_element(\"css selector\", \"#wt-cli-accept-all-btn\").click()\n",
    "\n",
    "# Espera durante 5 segundos (esto puede ser útil para permitir que la página cargue completamente)\n",
    "sleep(5)\n",
    "\n",
    "# Captura una captura de pantalla de la página web actual y la guarda como \"adalab.png\"\n",
    "driver.save_screenshot('adalab.png')\n",
    "\n",
    "# Cierra el navegador\n",
    "driver.close()"
   ]
  },
  {
   "cell_type": "code",
   "execution_count": 9,
   "metadata": {},
   "outputs": [
    {
     "name": "stdout",
     "output_type": "stream",
     "text": [
      "4,2\n",
      "5,3\n",
      "6,7\n"
     ]
    }
   ],
   "source": [
    "driver = webdriver.Chrome()\n",
    "# Navegamos a la página web \"https://www.imdb.com/title/tt10928904/\"\n",
    "driver.get(\"https://www.imdb.com\")\n",
    "sleep(5)\n",
    "driver.find_element(\"css selector\", \"#__next > div > div > div.sc-jrcTuL.bPmWiM > div > button.icb-btn.sc-bcXHqe.sc-hLBbgP.sc-ftTHYK.dcvrLS.dufgkr.ecppKW\").click()\n",
    "owner_id_limited = owner_id_list [0:3]\n",
    "score_list = []\n",
    "for film in owner_id_limited:\n",
    "    score = None;\n",
    "    try:\n",
    "        #Introducimos el número de ID de la peli en el buscador de la web\n",
    "        driver.find_element('css selector', '#suggestion-search').send_keys(film, Keys.ENTER)\n",
    "        sleep(2)\n",
    "        score = driver.find_element('css selector', '#__next > main > div > section.ipc-page-background.ipc-page-background--base.sc-c41b9732-0.NeSef > section > div:nth-child(5) > section > section > div.sc-491663c0-3.bdjVSf > div.sc-3a4309f8-0.bjXIAP.sc-1f50b7c-1.bfrqUc > div > div:nth-child(1) > a > span > div > div.sc-eb51e184-0.kFvAju > div.sc-eb51e184-2.czkfBq > span.sc-eb51e184-1.cxhhrI').text\n",
    "        print(score)\n",
    "    except:\n",
    "        score = 0;\n",
    "        print(f'No ha sido posible obtener la puntuación de la película con ID:{film}')"
   ]
  }
 ],
 "metadata": {
  "kernelspec": {
   "display_name": "Python 3",
   "language": "python",
   "name": "python3"
  },
  "language_info": {
   "codemirror_mode": {
    "name": "ipython",
    "version": 3
   },
   "file_extension": ".py",
   "mimetype": "text/x-python",
   "name": "python",
   "nbconvert_exporter": "python",
   "pygments_lexer": "ipython3",
   "version": "3.11.9"
  }
 },
 "nbformat": 4,
 "nbformat_minor": 2
}
