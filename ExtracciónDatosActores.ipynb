{
 "cells": [
  {
   "cell_type": "code",
   "execution_count": 4,
   "metadata": {},
   "outputs": [],
   "source": [
    " #Cargamos todas las librerías necesarias para web scrapping con Selenium\n",
    "# Importar librerías para tratamiento de datos\n",
    "# -----------------------------------------------------------------------\n",
    "\n",
    "# Importar librerías para web scraping y manipulación de datos\n",
    "# -----------------------------------------------------------------------\n",
    "from bs4 import BeautifulSoup\n",
    "import requests\n",
    "\n",
    "# Importar librerías para automatización de navegadores web con Selenium\n",
    "# -----------------------------------------------------------------------\n",
    "from selenium import webdriver  # Selenium es una herramienta para automatizar la interacción con navegadores web.\n",
    "from webdriver_manager.chrome import ChromeDriverManager  # ChromeDriverManager gestiona la instalación del controlador de Chrome.\n",
    "from selenium.webdriver.common.keys import Keys  # Keys es útil para simular eventos de teclado en Selenium.\n",
    "from selenium.webdriver.support.ui import Select  # Select se utiliza para interactuar con elementos <select> en páginas web.\n",
    "\n",
    "# Importar librerías para pausar la ejecución\n",
    "# -----------------------------------------------------------------------\n",
    "from time import sleep  # Sleep se utiliza para pausar la ejecución del programa por un número de segundos.\n",
    "\n",
    "# Configuraciones\n",
    "# -----------------------------------------------------------------------\n",
    "pd.set_option('display.max_columns', None)  # Establece una opción de Pandas para mostrar todas las columnas de un DataFrame."
   ]
  },
  {
   "cell_type": "code",
   "execution_count": 3,
   "metadata": {},
   "outputs": [],
   "source": [
    "# Leemos el fichero con las pelis y generamos dos listas. Una de títulos y otra con los owner_id\n",
    "\n",
    "# Importamos pandas para poder leer el csv y poder manejar el dataframe\n",
    "\n",
    "import pandas as pd\n",
    "\n"
   ]
  },
  {
   "cell_type": "code",
   "execution_count": 5,
   "metadata": {},
   "outputs": [
    {
     "data": {
      "text/plain": [
       "['Saif Ali Khan', 'Atul Agnihotri']"
      ]
     },
     "execution_count": 5,
     "metadata": {},
     "output_type": "execute_result"
    }
   ],
   "source": [
    "nombres_actores_corto = ['Saif Ali Khan', 'Atul Agnihotri']\n",
    "nombres_actores_corto"
   ]
  },
  {
   "cell_type": "code",
   "execution_count": 14,
   "metadata": {},
   "outputs": [
    {
     "ename": "ElementClickInterceptedException",
     "evalue": "Message: element click intercepted: Element <a class=\"ipc-metadata-list-summary-item__t\" role=\"button\" tabindex=\"0\" aria-disabled=\"false\" href=\"/name/nm0451307/?ref_=fn_al_nm_1\">...</a> is not clickable at point (371, 573). Other element would receive the click: <div class=\"sc-eDvSVe bZzAFe icb-html\">...</div>\n  (Session info: chrome=126.0.6478.128)\nStacktrace:\n\tGetHandleVerifier [0x00007FF71E3CEEB2+31554]\n\t(No symbol) [0x00007FF71E347EE9]\n\t(No symbol) [0x00007FF71E20872A]\n\t(No symbol) [0x00007FF71E26012E]\n\t(No symbol) [0x00007FF71E25DAF2]\n\t(No symbol) [0x00007FF71E25AF8B]\n\t(No symbol) [0x00007FF71E25A156]\n\t(No symbol) [0x00007FF71E24C151]\n\t(No symbol) [0x00007FF71E27D02A]\n\t(No symbol) [0x00007FF71E24BA76]\n\t(No symbol) [0x00007FF71E27D240]\n\t(No symbol) [0x00007FF71E29C977]\n\t(No symbol) [0x00007FF71E27CDD3]\n\t(No symbol) [0x00007FF71E24A33B]\n\t(No symbol) [0x00007FF71E24AED1]\n\tGetHandleVerifier [0x00007FF71E6D8B2D+3217341]\n\tGetHandleVerifier [0x00007FF71E725AF3+3532675]\n\tGetHandleVerifier [0x00007FF71E71B0F0+3489152]\n\tGetHandleVerifier [0x00007FF71E47E786+750614]\n\t(No symbol) [0x00007FF71E35376F]\n\t(No symbol) [0x00007FF71E34EB24]\n\t(No symbol) [0x00007FF71E34ECB2]\n\t(No symbol) [0x00007FF71E33E17F]\n\tBaseThreadInitThunk [0x00007FFF725F7374+20]\n\tRtlUserThreadStart [0x00007FFF73FBCC91+33]\n",
     "output_type": "error",
     "traceback": [
      "\u001b[1;31m---------------------------------------------------------------------------\u001b[0m",
      "\u001b[1;31mElementClickInterceptedException\u001b[0m          Traceback (most recent call last)",
      "Cell \u001b[1;32mIn[14], line 15\u001b[0m\n\u001b[0;32m     12\u001b[0m driver\u001b[38;5;241m.\u001b[39mfind_element(\u001b[38;5;124m\"\u001b[39m\u001b[38;5;124mcss selector\u001b[39m\u001b[38;5;124m\"\u001b[39m, \u001b[38;5;124m\"\u001b[39m\u001b[38;5;124m#suggestion-search\u001b[39m\u001b[38;5;124m\"\u001b[39m)\u001b[38;5;241m.\u001b[39msend_keys(actor, Keys\u001b[38;5;241m.\u001b[39mENTER)\n\u001b[0;32m     14\u001b[0m sleep(\u001b[38;5;241m3\u001b[39m)\n\u001b[1;32m---> 15\u001b[0m \u001b[43mdriver\u001b[49m\u001b[38;5;241;43m.\u001b[39;49m\u001b[43mfind_element\u001b[49m\u001b[43m(\u001b[49m\u001b[38;5;124;43m'\u001b[39;49m\u001b[38;5;124;43mxpath\u001b[39;49m\u001b[38;5;124;43m'\u001b[39;49m\u001b[43m,\u001b[49m\u001b[38;5;124;43m'\u001b[39;49m\u001b[38;5;124;43m//*[@id=\u001b[39;49m\u001b[38;5;124;43m\"\u001b[39;49m\u001b[38;5;124;43m__next\u001b[39;49m\u001b[38;5;124;43m\"\u001b[39;49m\u001b[38;5;124;43m]/main/div[2]/div[3]/section/div/div[1]/section[2]/div[2]/ul/li[1]/div[2]/div/a\u001b[39;49m\u001b[38;5;124;43m'\u001b[39;49m\u001b[43m)\u001b[49m\u001b[38;5;241;43m.\u001b[39;49m\u001b[43mclick\u001b[49m\u001b[43m(\u001b[49m\u001b[43m)\u001b[49m\n\u001b[0;32m     16\u001b[0m sleep(\u001b[38;5;241m3\u001b[39m)\n\u001b[0;32m     18\u001b[0m \u001b[38;5;28;01mtry\u001b[39;00m:\n",
      "File \u001b[1;32m~\\AppData\\Local\\Packages\\PythonSoftwareFoundation.Python.3.11_qbz5n2kfra8p0\\LocalCache\\local-packages\\Python311\\site-packages\\selenium\\webdriver\\remote\\webelement.py:94\u001b[0m, in \u001b[0;36mWebElement.click\u001b[1;34m(self)\u001b[0m\n\u001b[0;32m     92\u001b[0m \u001b[38;5;28;01mdef\u001b[39;00m \u001b[38;5;21mclick\u001b[39m(\u001b[38;5;28mself\u001b[39m) \u001b[38;5;241m-\u001b[39m\u001b[38;5;241m>\u001b[39m \u001b[38;5;28;01mNone\u001b[39;00m:\n\u001b[0;32m     93\u001b[0m \u001b[38;5;250m    \u001b[39m\u001b[38;5;124;03m\"\"\"Clicks the element.\"\"\"\u001b[39;00m\n\u001b[1;32m---> 94\u001b[0m     \u001b[38;5;28;43mself\u001b[39;49m\u001b[38;5;241;43m.\u001b[39;49m\u001b[43m_execute\u001b[49m\u001b[43m(\u001b[49m\u001b[43mCommand\u001b[49m\u001b[38;5;241;43m.\u001b[39;49m\u001b[43mCLICK_ELEMENT\u001b[49m\u001b[43m)\u001b[49m\n",
      "File \u001b[1;32m~\\AppData\\Local\\Packages\\PythonSoftwareFoundation.Python.3.11_qbz5n2kfra8p0\\LocalCache\\local-packages\\Python311\\site-packages\\selenium\\webdriver\\remote\\webelement.py:395\u001b[0m, in \u001b[0;36mWebElement._execute\u001b[1;34m(self, command, params)\u001b[0m\n\u001b[0;32m    393\u001b[0m     params \u001b[38;5;241m=\u001b[39m {}\n\u001b[0;32m    394\u001b[0m params[\u001b[38;5;124m\"\u001b[39m\u001b[38;5;124mid\u001b[39m\u001b[38;5;124m\"\u001b[39m] \u001b[38;5;241m=\u001b[39m \u001b[38;5;28mself\u001b[39m\u001b[38;5;241m.\u001b[39m_id\n\u001b[1;32m--> 395\u001b[0m \u001b[38;5;28;01mreturn\u001b[39;00m \u001b[38;5;28;43mself\u001b[39;49m\u001b[38;5;241;43m.\u001b[39;49m\u001b[43m_parent\u001b[49m\u001b[38;5;241;43m.\u001b[39;49m\u001b[43mexecute\u001b[49m\u001b[43m(\u001b[49m\u001b[43mcommand\u001b[49m\u001b[43m,\u001b[49m\u001b[43m \u001b[49m\u001b[43mparams\u001b[49m\u001b[43m)\u001b[49m\n",
      "File \u001b[1;32m~\\AppData\\Local\\Packages\\PythonSoftwareFoundation.Python.3.11_qbz5n2kfra8p0\\LocalCache\\local-packages\\Python311\\site-packages\\selenium\\webdriver\\remote\\webdriver.py:347\u001b[0m, in \u001b[0;36mWebDriver.execute\u001b[1;34m(self, driver_command, params)\u001b[0m\n\u001b[0;32m    345\u001b[0m response \u001b[38;5;241m=\u001b[39m \u001b[38;5;28mself\u001b[39m\u001b[38;5;241m.\u001b[39mcommand_executor\u001b[38;5;241m.\u001b[39mexecute(driver_command, params)\n\u001b[0;32m    346\u001b[0m \u001b[38;5;28;01mif\u001b[39;00m response:\n\u001b[1;32m--> 347\u001b[0m     \u001b[38;5;28;43mself\u001b[39;49m\u001b[38;5;241;43m.\u001b[39;49m\u001b[43merror_handler\u001b[49m\u001b[38;5;241;43m.\u001b[39;49m\u001b[43mcheck_response\u001b[49m\u001b[43m(\u001b[49m\u001b[43mresponse\u001b[49m\u001b[43m)\u001b[49m\n\u001b[0;32m    348\u001b[0m     response[\u001b[38;5;124m\"\u001b[39m\u001b[38;5;124mvalue\u001b[39m\u001b[38;5;124m\"\u001b[39m] \u001b[38;5;241m=\u001b[39m \u001b[38;5;28mself\u001b[39m\u001b[38;5;241m.\u001b[39m_unwrap_value(response\u001b[38;5;241m.\u001b[39mget(\u001b[38;5;124m\"\u001b[39m\u001b[38;5;124mvalue\u001b[39m\u001b[38;5;124m\"\u001b[39m, \u001b[38;5;28;01mNone\u001b[39;00m))\n\u001b[0;32m    349\u001b[0m     \u001b[38;5;28;01mreturn\u001b[39;00m response\n",
      "File \u001b[1;32m~\\AppData\\Local\\Packages\\PythonSoftwareFoundation.Python.3.11_qbz5n2kfra8p0\\LocalCache\\local-packages\\Python311\\site-packages\\selenium\\webdriver\\remote\\errorhandler.py:229\u001b[0m, in \u001b[0;36mErrorHandler.check_response\u001b[1;34m(self, response)\u001b[0m\n\u001b[0;32m    227\u001b[0m         alert_text \u001b[38;5;241m=\u001b[39m value[\u001b[38;5;124m\"\u001b[39m\u001b[38;5;124malert\u001b[39m\u001b[38;5;124m\"\u001b[39m]\u001b[38;5;241m.\u001b[39mget(\u001b[38;5;124m\"\u001b[39m\u001b[38;5;124mtext\u001b[39m\u001b[38;5;124m\"\u001b[39m)\n\u001b[0;32m    228\u001b[0m     \u001b[38;5;28;01mraise\u001b[39;00m exception_class(message, screen, stacktrace, alert_text)  \u001b[38;5;66;03m# type: ignore[call-arg]  # mypy is not smart enough here\u001b[39;00m\n\u001b[1;32m--> 229\u001b[0m \u001b[38;5;28;01mraise\u001b[39;00m exception_class(message, screen, stacktrace)\n",
      "\u001b[1;31mElementClickInterceptedException\u001b[0m: Message: element click intercepted: Element <a class=\"ipc-metadata-list-summary-item__t\" role=\"button\" tabindex=\"0\" aria-disabled=\"false\" href=\"/name/nm0451307/?ref_=fn_al_nm_1\">...</a> is not clickable at point (371, 573). Other element would receive the click: <div class=\"sc-eDvSVe bZzAFe icb-html\">...</div>\n  (Session info: chrome=126.0.6478.128)\nStacktrace:\n\tGetHandleVerifier [0x00007FF71E3CEEB2+31554]\n\t(No symbol) [0x00007FF71E347EE9]\n\t(No symbol) [0x00007FF71E20872A]\n\t(No symbol) [0x00007FF71E26012E]\n\t(No symbol) [0x00007FF71E25DAF2]\n\t(No symbol) [0x00007FF71E25AF8B]\n\t(No symbol) [0x00007FF71E25A156]\n\t(No symbol) [0x00007FF71E24C151]\n\t(No symbol) [0x00007FF71E27D02A]\n\t(No symbol) [0x00007FF71E24BA76]\n\t(No symbol) [0x00007FF71E27D240]\n\t(No symbol) [0x00007FF71E29C977]\n\t(No symbol) [0x00007FF71E27CDD3]\n\t(No symbol) [0x00007FF71E24A33B]\n\t(No symbol) [0x00007FF71E24AED1]\n\tGetHandleVerifier [0x00007FF71E6D8B2D+3217341]\n\tGetHandleVerifier [0x00007FF71E725AF3+3532675]\n\tGetHandleVerifier [0x00007FF71E71B0F0+3489152]\n\tGetHandleVerifier [0x00007FF71E47E786+750614]\n\t(No symbol) [0x00007FF71E35376F]\n\t(No symbol) [0x00007FF71E34EB24]\n\t(No symbol) [0x00007FF71E34ECB2]\n\t(No symbol) [0x00007FF71E33E17F]\n\tBaseThreadInitThunk [0x00007FFF725F7374+20]\n\tRtlUserThreadStart [0x00007FFF73FBCC91+33]\n"
     ]
    }
   ],
   "source": [
    "#ESTE SI QUE BUSCAR POR ACTOR, PERO NO EL DETALLE - CORREGIDO POR YANELIS\n",
    "#NACIMIENTO\n",
    "driver = webdriver.Chrome()\n",
    "# Navegamos a la página web \"https://www.imdb.com/title/tt10928904/\"\n",
    "driver.get(\"https://www.imdb.com\")\n",
    "sleep(7)\n",
    "\n",
    "lista_info_actores = []\n",
    "nacimiento = None\n",
    "\n",
    "for actor in nombres_actores_corto:\n",
    "    driver.find_element(\"css selector\", \"#suggestion-search\").send_keys(actor, Keys.ENTER)\n",
    "\n",
    "    sleep(3)\n",
    "    driver.find_element('xpath','//*[@id=\"__next\"]/main/div[2]/div[3]/section/div/div[1]/section[2]/div[2]/ul/li[1]/div[2]/div/a').click()\n",
    "    sleep(3)\n",
    "\n",
    "    try:\n",
    "        \n",
    "        nacimiento = driver.find_element(\"css selector\", '#__next > main > div > section.ipc-page-background.ipc-page-background--base.sc-c41b9732-0.NeSef > div > section > div > div.sc-978e9339-1.ihWZgK.ipc-page-grid__item.ipc-page-grid__item--span-2 > section:nth-child(22) > div.sc-f65f65be-0.bBlII > ul > li:nth-child(3) > div > ul > li.ipc-inline-list__item.test-class-react > a').text\n",
    "        lista_info_actores.append({\"nombre actor\":actor, \"fecha\":nacimiento})\n",
    "        print(lista_info_actores)  \n",
    "\n",
    "    except:\n",
    "        print(\"Fecha de nacimiento no encontrada\")"
   ]
  },
  {
   "cell_type": "code",
   "execution_count": 15,
   "metadata": {},
   "outputs": [
    {
     "ename": "ElementClickInterceptedException",
     "evalue": "Message: element click intercepted: Element <a class=\"ipc-metadata-list-summary-item__t\" role=\"button\" tabindex=\"0\" aria-disabled=\"false\" href=\"/name/nm0451307/?ref_=fn_al_nm_1\">...</a> is not clickable at point (371, 573). Other element would receive the click: <div class=\"sc-eDvSVe bZzAFe icb-html\">...</div>\n  (Session info: chrome=126.0.6478.128)\nStacktrace:\n\tGetHandleVerifier [0x00007FF71E3CEEB2+31554]\n\t(No symbol) [0x00007FF71E347EE9]\n\t(No symbol) [0x00007FF71E20872A]\n\t(No symbol) [0x00007FF71E26012E]\n\t(No symbol) [0x00007FF71E25DAF2]\n\t(No symbol) [0x00007FF71E25AF8B]\n\t(No symbol) [0x00007FF71E25A156]\n\t(No symbol) [0x00007FF71E24C151]\n\t(No symbol) [0x00007FF71E27D02A]\n\t(No symbol) [0x00007FF71E24BA76]\n\t(No symbol) [0x00007FF71E27D240]\n\t(No symbol) [0x00007FF71E29C977]\n\t(No symbol) [0x00007FF71E27CDD3]\n\t(No symbol) [0x00007FF71E24A33B]\n\t(No symbol) [0x00007FF71E24AED1]\n\tGetHandleVerifier [0x00007FF71E6D8B2D+3217341]\n\tGetHandleVerifier [0x00007FF71E725AF3+3532675]\n\tGetHandleVerifier [0x00007FF71E71B0F0+3489152]\n\tGetHandleVerifier [0x00007FF71E47E786+750614]\n\t(No symbol) [0x00007FF71E35376F]\n\t(No symbol) [0x00007FF71E34EB24]\n\t(No symbol) [0x00007FF71E34ECB2]\n\t(No symbol) [0x00007FF71E33E17F]\n\tBaseThreadInitThunk [0x00007FFF725F7374+20]\n\tRtlUserThreadStart [0x00007FFF73FBCC91+33]\n",
     "output_type": "error",
     "traceback": [
      "\u001b[1;31m---------------------------------------------------------------------------\u001b[0m",
      "\u001b[1;31mElementClickInterceptedException\u001b[0m          Traceback (most recent call last)",
      "Cell \u001b[1;32mIn[15], line 15\u001b[0m\n\u001b[0;32m     12\u001b[0m driver\u001b[38;5;241m.\u001b[39mfind_element(\u001b[38;5;124m\"\u001b[39m\u001b[38;5;124mcss selector\u001b[39m\u001b[38;5;124m\"\u001b[39m, \u001b[38;5;124m\"\u001b[39m\u001b[38;5;124m#suggestion-search\u001b[39m\u001b[38;5;124m\"\u001b[39m)\u001b[38;5;241m.\u001b[39msend_keys(actor, Keys\u001b[38;5;241m.\u001b[39mENTER)\n\u001b[0;32m     14\u001b[0m sleep(\u001b[38;5;241m3\u001b[39m)\n\u001b[1;32m---> 15\u001b[0m \u001b[43mdriver\u001b[49m\u001b[38;5;241;43m.\u001b[39;49m\u001b[43mfind_element\u001b[49m\u001b[43m(\u001b[49m\u001b[38;5;124;43m'\u001b[39;49m\u001b[38;5;124;43mxpath\u001b[39;49m\u001b[38;5;124;43m'\u001b[39;49m\u001b[43m,\u001b[49m\u001b[38;5;124;43m'\u001b[39;49m\u001b[38;5;124;43m//*[@id=\u001b[39;49m\u001b[38;5;124;43m\"\u001b[39;49m\u001b[38;5;124;43m__next\u001b[39;49m\u001b[38;5;124;43m\"\u001b[39;49m\u001b[38;5;124;43m]/main/div[2]/div[3]/section/div/div[1]/section[2]/div[2]/ul/li[1]/div[2]/div/a\u001b[39;49m\u001b[38;5;124;43m'\u001b[39;49m\u001b[43m)\u001b[49m\u001b[38;5;241;43m.\u001b[39;49m\u001b[43mclick\u001b[49m\u001b[43m(\u001b[49m\u001b[43m)\u001b[49m\n\u001b[0;32m     16\u001b[0m sleep(\u001b[38;5;241m3\u001b[39m)\n\u001b[0;32m     18\u001b[0m \u001b[38;5;28;01mfor\u001b[39;00m i \u001b[38;5;129;01min\u001b[39;00m \u001b[38;5;28mrange\u001b[39m(\u001b[38;5;241m1\u001b[39m,\u001b[38;5;241m4\u001b[39m):\n",
      "File \u001b[1;32m~\\AppData\\Local\\Packages\\PythonSoftwareFoundation.Python.3.11_qbz5n2kfra8p0\\LocalCache\\local-packages\\Python311\\site-packages\\selenium\\webdriver\\remote\\webelement.py:94\u001b[0m, in \u001b[0;36mWebElement.click\u001b[1;34m(self)\u001b[0m\n\u001b[0;32m     92\u001b[0m \u001b[38;5;28;01mdef\u001b[39;00m \u001b[38;5;21mclick\u001b[39m(\u001b[38;5;28mself\u001b[39m) \u001b[38;5;241m-\u001b[39m\u001b[38;5;241m>\u001b[39m \u001b[38;5;28;01mNone\u001b[39;00m:\n\u001b[0;32m     93\u001b[0m \u001b[38;5;250m    \u001b[39m\u001b[38;5;124;03m\"\"\"Clicks the element.\"\"\"\u001b[39;00m\n\u001b[1;32m---> 94\u001b[0m     \u001b[38;5;28;43mself\u001b[39;49m\u001b[38;5;241;43m.\u001b[39;49m\u001b[43m_execute\u001b[49m\u001b[43m(\u001b[49m\u001b[43mCommand\u001b[49m\u001b[38;5;241;43m.\u001b[39;49m\u001b[43mCLICK_ELEMENT\u001b[49m\u001b[43m)\u001b[49m\n",
      "File \u001b[1;32m~\\AppData\\Local\\Packages\\PythonSoftwareFoundation.Python.3.11_qbz5n2kfra8p0\\LocalCache\\local-packages\\Python311\\site-packages\\selenium\\webdriver\\remote\\webelement.py:395\u001b[0m, in \u001b[0;36mWebElement._execute\u001b[1;34m(self, command, params)\u001b[0m\n\u001b[0;32m    393\u001b[0m     params \u001b[38;5;241m=\u001b[39m {}\n\u001b[0;32m    394\u001b[0m params[\u001b[38;5;124m\"\u001b[39m\u001b[38;5;124mid\u001b[39m\u001b[38;5;124m\"\u001b[39m] \u001b[38;5;241m=\u001b[39m \u001b[38;5;28mself\u001b[39m\u001b[38;5;241m.\u001b[39m_id\n\u001b[1;32m--> 395\u001b[0m \u001b[38;5;28;01mreturn\u001b[39;00m \u001b[38;5;28;43mself\u001b[39;49m\u001b[38;5;241;43m.\u001b[39;49m\u001b[43m_parent\u001b[49m\u001b[38;5;241;43m.\u001b[39;49m\u001b[43mexecute\u001b[49m\u001b[43m(\u001b[49m\u001b[43mcommand\u001b[49m\u001b[43m,\u001b[49m\u001b[43m \u001b[49m\u001b[43mparams\u001b[49m\u001b[43m)\u001b[49m\n",
      "File \u001b[1;32m~\\AppData\\Local\\Packages\\PythonSoftwareFoundation.Python.3.11_qbz5n2kfra8p0\\LocalCache\\local-packages\\Python311\\site-packages\\selenium\\webdriver\\remote\\webdriver.py:347\u001b[0m, in \u001b[0;36mWebDriver.execute\u001b[1;34m(self, driver_command, params)\u001b[0m\n\u001b[0;32m    345\u001b[0m response \u001b[38;5;241m=\u001b[39m \u001b[38;5;28mself\u001b[39m\u001b[38;5;241m.\u001b[39mcommand_executor\u001b[38;5;241m.\u001b[39mexecute(driver_command, params)\n\u001b[0;32m    346\u001b[0m \u001b[38;5;28;01mif\u001b[39;00m response:\n\u001b[1;32m--> 347\u001b[0m     \u001b[38;5;28;43mself\u001b[39;49m\u001b[38;5;241;43m.\u001b[39;49m\u001b[43merror_handler\u001b[49m\u001b[38;5;241;43m.\u001b[39;49m\u001b[43mcheck_response\u001b[49m\u001b[43m(\u001b[49m\u001b[43mresponse\u001b[49m\u001b[43m)\u001b[49m\n\u001b[0;32m    348\u001b[0m     response[\u001b[38;5;124m\"\u001b[39m\u001b[38;5;124mvalue\u001b[39m\u001b[38;5;124m\"\u001b[39m] \u001b[38;5;241m=\u001b[39m \u001b[38;5;28mself\u001b[39m\u001b[38;5;241m.\u001b[39m_unwrap_value(response\u001b[38;5;241m.\u001b[39mget(\u001b[38;5;124m\"\u001b[39m\u001b[38;5;124mvalue\u001b[39m\u001b[38;5;124m\"\u001b[39m, \u001b[38;5;28;01mNone\u001b[39;00m))\n\u001b[0;32m    349\u001b[0m     \u001b[38;5;28;01mreturn\u001b[39;00m response\n",
      "File \u001b[1;32m~\\AppData\\Local\\Packages\\PythonSoftwareFoundation.Python.3.11_qbz5n2kfra8p0\\LocalCache\\local-packages\\Python311\\site-packages\\selenium\\webdriver\\remote\\errorhandler.py:229\u001b[0m, in \u001b[0;36mErrorHandler.check_response\u001b[1;34m(self, response)\u001b[0m\n\u001b[0;32m    227\u001b[0m         alert_text \u001b[38;5;241m=\u001b[39m value[\u001b[38;5;124m\"\u001b[39m\u001b[38;5;124malert\u001b[39m\u001b[38;5;124m\"\u001b[39m]\u001b[38;5;241m.\u001b[39mget(\u001b[38;5;124m\"\u001b[39m\u001b[38;5;124mtext\u001b[39m\u001b[38;5;124m\"\u001b[39m)\n\u001b[0;32m    228\u001b[0m     \u001b[38;5;28;01mraise\u001b[39;00m exception_class(message, screen, stacktrace, alert_text)  \u001b[38;5;66;03m# type: ignore[call-arg]  # mypy is not smart enough here\u001b[39;00m\n\u001b[1;32m--> 229\u001b[0m \u001b[38;5;28;01mraise\u001b[39;00m exception_class(message, screen, stacktrace)\n",
      "\u001b[1;31mElementClickInterceptedException\u001b[0m: Message: element click intercepted: Element <a class=\"ipc-metadata-list-summary-item__t\" role=\"button\" tabindex=\"0\" aria-disabled=\"false\" href=\"/name/nm0451307/?ref_=fn_al_nm_1\">...</a> is not clickable at point (371, 573). Other element would receive the click: <div class=\"sc-eDvSVe bZzAFe icb-html\">...</div>\n  (Session info: chrome=126.0.6478.128)\nStacktrace:\n\tGetHandleVerifier [0x00007FF71E3CEEB2+31554]\n\t(No symbol) [0x00007FF71E347EE9]\n\t(No symbol) [0x00007FF71E20872A]\n\t(No symbol) [0x00007FF71E26012E]\n\t(No symbol) [0x00007FF71E25DAF2]\n\t(No symbol) [0x00007FF71E25AF8B]\n\t(No symbol) [0x00007FF71E25A156]\n\t(No symbol) [0x00007FF71E24C151]\n\t(No symbol) [0x00007FF71E27D02A]\n\t(No symbol) [0x00007FF71E24BA76]\n\t(No symbol) [0x00007FF71E27D240]\n\t(No symbol) [0x00007FF71E29C977]\n\t(No symbol) [0x00007FF71E27CDD3]\n\t(No symbol) [0x00007FF71E24A33B]\n\t(No symbol) [0x00007FF71E24AED1]\n\tGetHandleVerifier [0x00007FF71E6D8B2D+3217341]\n\tGetHandleVerifier [0x00007FF71E725AF3+3532675]\n\tGetHandleVerifier [0x00007FF71E71B0F0+3489152]\n\tGetHandleVerifier [0x00007FF71E47E786+750614]\n\t(No symbol) [0x00007FF71E35376F]\n\t(No symbol) [0x00007FF71E34EB24]\n\t(No symbol) [0x00007FF71E34ECB2]\n\t(No symbol) [0x00007FF71E33E17F]\n\tBaseThreadInitThunk [0x00007FFF725F7374+20]\n\tRtlUserThreadStart [0x00007FFF73FBCC91+33]\n"
     ]
    }
   ],
   "source": [
    "#ESTE SI QUE BUSCAR POR ACTOR, PERO NO EL DETALLE - CORREGIDO POR YANELIS\n",
    "#QUE HACE\n",
    "driver = webdriver.Chrome()\n",
    "# Navegamos a la página web \"https://www.imdb.com/title/tt10928904/\"\n",
    "driver.get(\"https://www.imdb.com\")\n",
    "sleep(7)\n",
    "\n",
    "lista_info_profesion = []\n",
    "\n",
    "profesion = None\n",
    "\n",
    "for actor in nombres_actores_corto:\n",
    "    driver.find_element(\"css selector\", \"#suggestion-search\").send_keys(actor, Keys.ENTER)\n",
    "\n",
    "    sleep(3)\n",
    "    driver.find_element('xpath','//*[@id=\"__next\"]/main/div[2]/div[3]/section/div/div[1]/section[2]/div[2]/ul/li[1]/div[2]/div/a').click()\n",
    "    sleep(3)\n",
    "\n",
    "    for i in range(1,4):\n",
    "        try:\n",
    "            profesion = driver.find_element(\"css selector\", '#__next > main > div > section.ipc-page-background.ipc-page-background--base.sc-c41b9732-0.NeSef > section > div:nth-child(5) > section > section > div.sc-491663c0-3.bdjVSf > div > ul > li:nth-child({i})').text\n",
    "            lista_info_profesion.append({\"nombre actor\":actor, \"profesion\":profesion})\n",
    "            print(lista_info_profesion)  \n",
    "\n",
    "        except:\n",
    "            print(\"No se ha encontrado la info\")"
   ]
  },
  {
   "cell_type": "code",
   "execution_count": 6,
   "metadata": {},
   "outputs": [
    {
     "ename": "ElementClickInterceptedException",
     "evalue": "Message: element click intercepted: Element <a class=\"ipc-metadata-list-summary-item__t\" role=\"button\" tabindex=\"0\" aria-disabled=\"false\" href=\"/name/nm0451307/?ref_=fn_al_nm_1\">...</a> is not clickable at point (371, 573). Other element would receive the click: <div class=\"sc-eDvSVe bZzAFe icb-html\">...</div>\n  (Session info: chrome=126.0.6478.128)\nStacktrace:\n\tGetHandleVerifier [0x00007FF71E3CEEB2+31554]\n\t(No symbol) [0x00007FF71E347EE9]\n\t(No symbol) [0x00007FF71E20872A]\n\t(No symbol) [0x00007FF71E26012E]\n\t(No symbol) [0x00007FF71E25DAF2]\n\t(No symbol) [0x00007FF71E25AF8B]\n\t(No symbol) [0x00007FF71E25A156]\n\t(No symbol) [0x00007FF71E24C151]\n\t(No symbol) [0x00007FF71E27D02A]\n\t(No symbol) [0x00007FF71E24BA76]\n\t(No symbol) [0x00007FF71E27D240]\n\t(No symbol) [0x00007FF71E29C977]\n\t(No symbol) [0x00007FF71E27CDD3]\n\t(No symbol) [0x00007FF71E24A33B]\n\t(No symbol) [0x00007FF71E24AED1]\n\tGetHandleVerifier [0x00007FF71E6D8B2D+3217341]\n\tGetHandleVerifier [0x00007FF71E725AF3+3532675]\n\tGetHandleVerifier [0x00007FF71E71B0F0+3489152]\n\tGetHandleVerifier [0x00007FF71E47E786+750614]\n\t(No symbol) [0x00007FF71E35376F]\n\t(No symbol) [0x00007FF71E34EB24]\n\t(No symbol) [0x00007FF71E34ECB2]\n\t(No symbol) [0x00007FF71E33E17F]\n\tBaseThreadInitThunk [0x00007FFF725F7374+20]\n\tRtlUserThreadStart [0x00007FFF73FBCC91+33]\n",
     "output_type": "error",
     "traceback": [
      "\u001b[1;31m---------------------------------------------------------------------------\u001b[0m",
      "\u001b[1;31mElementClickInterceptedException\u001b[0m          Traceback (most recent call last)",
      "Cell \u001b[1;32mIn[6], line 15\u001b[0m\n\u001b[0;32m     12\u001b[0m driver\u001b[38;5;241m.\u001b[39mfind_element(\u001b[38;5;124m\"\u001b[39m\u001b[38;5;124mcss selector\u001b[39m\u001b[38;5;124m\"\u001b[39m, \u001b[38;5;124m\"\u001b[39m\u001b[38;5;124m#suggestion-search\u001b[39m\u001b[38;5;124m\"\u001b[39m)\u001b[38;5;241m.\u001b[39msend_keys(actor, Keys\u001b[38;5;241m.\u001b[39mENTER)\n\u001b[0;32m     14\u001b[0m sleep(\u001b[38;5;241m3\u001b[39m)\n\u001b[1;32m---> 15\u001b[0m \u001b[43mdriver\u001b[49m\u001b[38;5;241;43m.\u001b[39;49m\u001b[43mfind_element\u001b[49m\u001b[43m(\u001b[49m\u001b[38;5;124;43m'\u001b[39;49m\u001b[38;5;124;43mxpath\u001b[39;49m\u001b[38;5;124;43m'\u001b[39;49m\u001b[43m,\u001b[49m\u001b[38;5;124;43m'\u001b[39;49m\u001b[38;5;124;43m//*[@id=\u001b[39;49m\u001b[38;5;124;43m\"\u001b[39;49m\u001b[38;5;124;43m__next\u001b[39;49m\u001b[38;5;124;43m\"\u001b[39;49m\u001b[38;5;124;43m]/main/div[2]/div[3]/section/div/div[1]/section[2]/div[2]/ul/li[1]/div[2]/div/a\u001b[39;49m\u001b[38;5;124;43m'\u001b[39;49m\u001b[43m)\u001b[49m\u001b[38;5;241;43m.\u001b[39;49m\u001b[43mclick\u001b[49m\u001b[43m(\u001b[49m\u001b[43m)\u001b[49m\n\u001b[0;32m     16\u001b[0m sleep(\u001b[38;5;241m3\u001b[39m)\n\u001b[0;32m     18\u001b[0m \u001b[38;5;28;01mfor\u001b[39;00m i \u001b[38;5;129;01min\u001b[39;00m \u001b[38;5;28mrange\u001b[39m(\u001b[38;5;241m1\u001b[39m,\u001b[38;5;241m5\u001b[39m):\n",
      "File \u001b[1;32m~\\AppData\\Local\\Packages\\PythonSoftwareFoundation.Python.3.11_qbz5n2kfra8p0\\LocalCache\\local-packages\\Python311\\site-packages\\selenium\\webdriver\\remote\\webelement.py:94\u001b[0m, in \u001b[0;36mWebElement.click\u001b[1;34m(self)\u001b[0m\n\u001b[0;32m     92\u001b[0m \u001b[38;5;28;01mdef\u001b[39;00m \u001b[38;5;21mclick\u001b[39m(\u001b[38;5;28mself\u001b[39m) \u001b[38;5;241m-\u001b[39m\u001b[38;5;241m>\u001b[39m \u001b[38;5;28;01mNone\u001b[39;00m:\n\u001b[0;32m     93\u001b[0m \u001b[38;5;250m    \u001b[39m\u001b[38;5;124;03m\"\"\"Clicks the element.\"\"\"\u001b[39;00m\n\u001b[1;32m---> 94\u001b[0m     \u001b[38;5;28;43mself\u001b[39;49m\u001b[38;5;241;43m.\u001b[39;49m\u001b[43m_execute\u001b[49m\u001b[43m(\u001b[49m\u001b[43mCommand\u001b[49m\u001b[38;5;241;43m.\u001b[39;49m\u001b[43mCLICK_ELEMENT\u001b[49m\u001b[43m)\u001b[49m\n",
      "File \u001b[1;32m~\\AppData\\Local\\Packages\\PythonSoftwareFoundation.Python.3.11_qbz5n2kfra8p0\\LocalCache\\local-packages\\Python311\\site-packages\\selenium\\webdriver\\remote\\webelement.py:395\u001b[0m, in \u001b[0;36mWebElement._execute\u001b[1;34m(self, command, params)\u001b[0m\n\u001b[0;32m    393\u001b[0m     params \u001b[38;5;241m=\u001b[39m {}\n\u001b[0;32m    394\u001b[0m params[\u001b[38;5;124m\"\u001b[39m\u001b[38;5;124mid\u001b[39m\u001b[38;5;124m\"\u001b[39m] \u001b[38;5;241m=\u001b[39m \u001b[38;5;28mself\u001b[39m\u001b[38;5;241m.\u001b[39m_id\n\u001b[1;32m--> 395\u001b[0m \u001b[38;5;28;01mreturn\u001b[39;00m \u001b[38;5;28;43mself\u001b[39;49m\u001b[38;5;241;43m.\u001b[39;49m\u001b[43m_parent\u001b[49m\u001b[38;5;241;43m.\u001b[39;49m\u001b[43mexecute\u001b[49m\u001b[43m(\u001b[49m\u001b[43mcommand\u001b[49m\u001b[43m,\u001b[49m\u001b[43m \u001b[49m\u001b[43mparams\u001b[49m\u001b[43m)\u001b[49m\n",
      "File \u001b[1;32m~\\AppData\\Local\\Packages\\PythonSoftwareFoundation.Python.3.11_qbz5n2kfra8p0\\LocalCache\\local-packages\\Python311\\site-packages\\selenium\\webdriver\\remote\\webdriver.py:347\u001b[0m, in \u001b[0;36mWebDriver.execute\u001b[1;34m(self, driver_command, params)\u001b[0m\n\u001b[0;32m    345\u001b[0m response \u001b[38;5;241m=\u001b[39m \u001b[38;5;28mself\u001b[39m\u001b[38;5;241m.\u001b[39mcommand_executor\u001b[38;5;241m.\u001b[39mexecute(driver_command, params)\n\u001b[0;32m    346\u001b[0m \u001b[38;5;28;01mif\u001b[39;00m response:\n\u001b[1;32m--> 347\u001b[0m     \u001b[38;5;28;43mself\u001b[39;49m\u001b[38;5;241;43m.\u001b[39;49m\u001b[43merror_handler\u001b[49m\u001b[38;5;241;43m.\u001b[39;49m\u001b[43mcheck_response\u001b[49m\u001b[43m(\u001b[49m\u001b[43mresponse\u001b[49m\u001b[43m)\u001b[49m\n\u001b[0;32m    348\u001b[0m     response[\u001b[38;5;124m\"\u001b[39m\u001b[38;5;124mvalue\u001b[39m\u001b[38;5;124m\"\u001b[39m] \u001b[38;5;241m=\u001b[39m \u001b[38;5;28mself\u001b[39m\u001b[38;5;241m.\u001b[39m_unwrap_value(response\u001b[38;5;241m.\u001b[39mget(\u001b[38;5;124m\"\u001b[39m\u001b[38;5;124mvalue\u001b[39m\u001b[38;5;124m\"\u001b[39m, \u001b[38;5;28;01mNone\u001b[39;00m))\n\u001b[0;32m    349\u001b[0m     \u001b[38;5;28;01mreturn\u001b[39;00m response\n",
      "File \u001b[1;32m~\\AppData\\Local\\Packages\\PythonSoftwareFoundation.Python.3.11_qbz5n2kfra8p0\\LocalCache\\local-packages\\Python311\\site-packages\\selenium\\webdriver\\remote\\errorhandler.py:229\u001b[0m, in \u001b[0;36mErrorHandler.check_response\u001b[1;34m(self, response)\u001b[0m\n\u001b[0;32m    227\u001b[0m         alert_text \u001b[38;5;241m=\u001b[39m value[\u001b[38;5;124m\"\u001b[39m\u001b[38;5;124malert\u001b[39m\u001b[38;5;124m\"\u001b[39m]\u001b[38;5;241m.\u001b[39mget(\u001b[38;5;124m\"\u001b[39m\u001b[38;5;124mtext\u001b[39m\u001b[38;5;124m\"\u001b[39m)\n\u001b[0;32m    228\u001b[0m     \u001b[38;5;28;01mraise\u001b[39;00m exception_class(message, screen, stacktrace, alert_text)  \u001b[38;5;66;03m# type: ignore[call-arg]  # mypy is not smart enough here\u001b[39;00m\n\u001b[1;32m--> 229\u001b[0m \u001b[38;5;28;01mraise\u001b[39;00m exception_class(message, screen, stacktrace)\n",
      "\u001b[1;31mElementClickInterceptedException\u001b[0m: Message: element click intercepted: Element <a class=\"ipc-metadata-list-summary-item__t\" role=\"button\" tabindex=\"0\" aria-disabled=\"false\" href=\"/name/nm0451307/?ref_=fn_al_nm_1\">...</a> is not clickable at point (371, 573). Other element would receive the click: <div class=\"sc-eDvSVe bZzAFe icb-html\">...</div>\n  (Session info: chrome=126.0.6478.128)\nStacktrace:\n\tGetHandleVerifier [0x00007FF71E3CEEB2+31554]\n\t(No symbol) [0x00007FF71E347EE9]\n\t(No symbol) [0x00007FF71E20872A]\n\t(No symbol) [0x00007FF71E26012E]\n\t(No symbol) [0x00007FF71E25DAF2]\n\t(No symbol) [0x00007FF71E25AF8B]\n\t(No symbol) [0x00007FF71E25A156]\n\t(No symbol) [0x00007FF71E24C151]\n\t(No symbol) [0x00007FF71E27D02A]\n\t(No symbol) [0x00007FF71E24BA76]\n\t(No symbol) [0x00007FF71E27D240]\n\t(No symbol) [0x00007FF71E29C977]\n\t(No symbol) [0x00007FF71E27CDD3]\n\t(No symbol) [0x00007FF71E24A33B]\n\t(No symbol) [0x00007FF71E24AED1]\n\tGetHandleVerifier [0x00007FF71E6D8B2D+3217341]\n\tGetHandleVerifier [0x00007FF71E725AF3+3532675]\n\tGetHandleVerifier [0x00007FF71E71B0F0+3489152]\n\tGetHandleVerifier [0x00007FF71E47E786+750614]\n\t(No symbol) [0x00007FF71E35376F]\n\t(No symbol) [0x00007FF71E34EB24]\n\t(No symbol) [0x00007FF71E34ECB2]\n\t(No symbol) [0x00007FF71E33E17F]\n\tBaseThreadInitThunk [0x00007FFF725F7374+20]\n\tRtlUserThreadStart [0x00007FFF73FBCC91+33]\n"
     ]
    }
   ],
   "source": [
    "#ESTE SI QUE BUSCAR POR ACTOR, PERO NO EL DETALLE - CORREGIDO POR YANELIS\n",
    "#PELICULAS QUE HA REALIZADO\n",
    "driver = webdriver.Chrome()\n",
    "# Navegamos a la página web \"https://www.imdb.com/title/tt10928904/\"\n",
    "driver.get(\"https://www.imdb.com\")\n",
    "sleep(7)\n",
    "\n",
    "lista_info_donefilm = []\n",
    "donefilms= None\n",
    "\n",
    "for actor in nombres_actores_corto:\n",
    "    driver.find_element(\"css selector\", \"#suggestion-search\").send_keys(actor, Keys.ENTER)\n",
    "\n",
    "    sleep(3)\n",
    "    driver.find_element('xpath','//*[@id=\"__next\"]/main/div[2]/div[3]/section/div/div[1]/section[2]/div[2]/ul/li[1]/div[2]/div/a').click()\n",
    "    sleep(3)\n",
    "\n",
    "    for i in range(1,5):\n",
    "        try:\n",
    "            donefilms = driver.find_element(\"css selector\", '#__next > main > div > section.ipc-page-background.ipc-page-background--base.sc-c41b9732-0.NeSef > div > section > div > div.sc-978e9339-1.ihWZgK.ipc-page-grid__item.ipc-page-grid__item--span-2 > div.celwidget > section:nth-child(1) > div.sc-1c5b3162-0.fFgRFS > div > div.ipc-sub-grid.ipc-sub-grid--page-span-2.ipc-sub-grid--wraps-at-above-l.ipc-shoveler__grid > div:nth-child({i}) > div.ipc-primary-image-list-card__content > div.ipc-primary-image-list-card__content-top > a').text\n",
    "            lista_info_donefilm.append({\"nombre actor\":actor, \"peliculas realizadas\":donefilms})\n",
    "            print(lista_info_donefilm)  \n",
    "\n",
    "        except:\n",
    "            print(\"No se ha encontrado la info\")"
   ]
  },
  {
   "cell_type": "code",
   "execution_count": null,
   "metadata": {},
   "outputs": [],
   "source": []
  }
 ],
 "metadata": {
  "kernelspec": {
   "display_name": "Python 3",
   "language": "python",
   "name": "python3"
  },
  "language_info": {
   "codemirror_mode": {
    "name": "ipython",
    "version": 3
   },
   "file_extension": ".py",
   "mimetype": "text/x-python",
   "name": "python",
   "nbconvert_exporter": "python",
   "pygments_lexer": "ipython3",
   "version": "3.11.9"
  }
 },
 "nbformat": 4,
 "nbformat_minor": 2
}
